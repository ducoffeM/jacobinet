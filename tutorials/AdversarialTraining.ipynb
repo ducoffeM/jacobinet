{
 "cells": [
  {
   "cell_type": "markdown",
   "id": "061d19d8-022d-4b2c-a81e-afd0adbe7026",
   "metadata": {},
   "source": [
    "# Robust Training with Jacobinet and Adversarial Attacks\n",
    "\n",
    "This tutorial demonstrates the use of Jacobinet for robust training in neural networks. \n",
    "Jacobinet allows the backward pass of a neural network to be represented as a neural network with shared weights. \n",
    "\n",
    "**Goals:**\n",
    "- Understand adversarial attacks (FGSM, PGD) and their impact on model robustness.\n",
    "- Use Jacobinet to implement robust training by regularizing against adversarial examples.\n",
    "- Evaluate robustness with AutoAttack for both baseline and robust training.\n",
    "\n",
    "We will:\n",
    "1. Train a baseline model and evaluate its adversarial robustness.\n",
    "2. Train a robust model with adversarial regularization using Jacobinet.\n",
    "3. Compare adversarial success rates for both models.\n"
   ]
  },
  {
   "cell_type": "markdown",
   "id": "be9e9c5e-41db-4741-9b8b-cb8c07044f54",
   "metadata": {},
   "source": [
    "## Load and Preprocess Data\n",
    "\n",
    "We will use the MNIST dataset for this tutorial. The dataset is normalized to the [0, 1] range and reshaped for compatibility with the convolutional model.\n"
   ]
  },
  {
   "cell_type": "code",
   "execution_count": null,
   "id": "8cb9b89b-2e2a-4847-95da-3ec3fc7b44c2",
   "metadata": {},
   "outputs": [],
   "source": [
    "import keras\n",
    "import numpy as np\n",
    "import matplotlib.pyplot as plt\n",
    "\n",
    "# Load the MNIST data and split it into training and testing sets\n",
    "(x_train, y_train), (x_test, y_test) = keras.datasets.mnist.load_data()\n",
    "\n",
    "# Scale the images to the [0, 1] range\n",
    "x_train = x_train.astype(\"float32\") / 255\n",
    "x_test = x_test.astype(\"float32\") / 255\n",
    "\n",
    "# Reshape images to have an additional channel dimension (1, 28, 28)\n",
    "x_train = np.expand_dims(x_train, 1)\n",
    "x_test = np.expand_dims(x_test, 1)\n",
    "\n",
    "# Convert class labels to one-hot encoded vectors\n",
    "y_train = keras.utils.to_categorical(y_train, 10)\n",
    "y_test = keras.utils.to_categorical(y_test, 10)\n"
   ]
  },
  {
   "cell_type": "markdown",
   "id": "beafcc44-3d81-4d34-836a-a8aa5e0b089c",
   "metadata": {},
   "source": [
    "## Define and Train the Baseline Model\n",
    "\n",
    "We will build a simple Convolutional Neural Network (CNN) using Keras to serve as the baseline model. \n",
    "This model will be trained on MNIST and evaluated for accuracy on clean data.\n"
   ]
  },
  {
   "cell_type": "code",
   "execution_count": null,
   "id": "d52589ad-076d-4274-98a4-0bb0e013c1db",
   "metadata": {},
   "outputs": [],
   "source": [
    "from keras import layers, Sequential\n",
    "\n",
    "# Define the model architecture\n",
    "model = Sequential(\n",
    "    [\n",
    "        layers.Input(shape=(1, 28, 28)),\n",
    "        layers.Conv2D(32, kernel_size=(3, 3), activation=\"relu\"),\n",
    "        layers.Conv2D(64, kernel_size=(3, 3), activation=\"relu\"),\n",
    "        layers.Flatten(),\n",
    "        layers.Dense(10)\n",
    "    ]\n",
    ")\n",
    "model.summary()\n",
    "\n",
    "train_model = Sequential(model.layers + [layers.Activation('softmax')])\n",
    "train_model.compile(loss=keras.losses.CategoricalCrossentropy(from_logits=True),\n",
    "                    optimizer=\"adam\",\n",
    "                    metrics=[\"accuracy\"])\n",
    "\n",
    "train_model.fit(x_train, y_train, batch_size=128, epochs=2, validation_split=0.1)\n"
   ]
  },
  {
   "cell_type": "code",
   "execution_count": null,
   "id": "865f8b0c-bc8e-471e-b5b9-2c7259b4b994",
   "metadata": {},
   "outputs": [],
   "source": [
    "## Evaluate Robustness of Baseline Model\n",
    "\n",
    "We use AutoAttack, a strong adversarial attack framework, to test the baseline model's robustness. \n",
    "AutoAttack generates adversarial examples by varying the attack radius (`epsilon`), and we measure the model's accuracy on these examples.\n"
   ]
  },
  {
   "cell_type": "code",
   "execution_count": null,
   "id": "a5bafe0f-20e8-4313-95d5-38ad7e24cd4d",
   "metadata": {},
   "outputs": [],
   "source": [
    "import torchattacks\n",
    "import torch\n",
    "\n",
    "# Test robustness at different epsilon values\n",
    "n = 100\n",
    "random_index = np.random.permutation(len(x_test))[:n]\n",
    "adv_acc = []\n",
    "eps_values = [np.round(eps_i, 2) for eps_i in np.linspace(0.01, 0.2, 10)]\n",
    "\n",
    "for eps in eps_values:\n",
    "    print(eps)\n",
    "    auto_attack = torchattacks.attacks.autoattack.AutoAttack(model, eps=eps)\n",
    "    adv_data = auto_attack(torch.Tensor(x_test[random_index]), torch.tensor(y_test[random_index].argmax(-1)))\n",
    "    acc = len(np.where(model.predict(adv_data, verbose=0).argmax(-1) != y_test[random_index].argmax(-1))[0]) / len(random_index) * 100\n",
    "    adv_acc.append(acc)\n",
    "\n",
    "plt.plot(eps_values, adv_acc)\n",
    "plt.title('Distribution of adversarial success rates with baseline training')\n",
    "plt.xlabel('Epsilon (attack radius)')\n",
    "plt.ylabel('Adversarial success rate')\n"
   ]
  },
  {
   "cell_type": "markdown",
   "id": "aac1e1fd-8f07-499f-a0e2-02160bf6d913",
   "metadata": {},
   "source": [
    "## Robust Training with Jacobinet\n",
    "\n",
    "To improve robustness, we will train a model that outputs predictions for both clean and adversarial examples. \n",
    "Jacobinet is used to create adversarial examples with Projected Gradient Descent (PGD), which are integrated into the training process.\n"
   ]
  },
  {
   "cell_type": "code",
   "execution_count": null,
   "id": "237cd14a-69fb-49cc-a3e2-e5bc1f406b7d",
   "metadata": {},
   "outputs": [],
   "source": [
    "from jacobinet.attacks import get_adv_model\n",
    "\n",
    "pgd_model = get_adv_model(model, loss='logits', epsilon=1e-2, attack='pgd', n_iter=20)\n",
    "\n",
    "x = layers.Input(shape=(1, 28, 28))\n",
    "y = layers.Input((10,))\n",
    "\n",
    "model_adv = keras.models.Model([x, y], [model(x), model(pgd_model([x, y]))])\n",
    "model_adv.compile('adam',\n",
    "                  loss=[keras.losses.CategoricalCrossentropy(from_logits=True),\n",
    "                        keras.losses.CategoricalCrossentropy(from_logits=True)],\n",
    "                  metrics=['accuracy', 'accuracy'], loss_weights=[1, 1])\n",
    "\n",
    "model_adv.fit([x_train, y_train], [y_train, y_train], batch_size=128, epochs=4, validation_split=0.1)\n"
   ]
  },
  {
   "cell_type": "markdown",
   "id": "0db32bf6-be6b-4d21-8bc6-7220ccef6e1e",
   "metadata": {},
   "source": [
    "## Evaluate Robustness of Robust Model\n",
    "\n",
    "We use AutoAttack again to evaluate the robust model under varying attack radii. \n",
    "This allows us to compare the adversarial success rates of the baseline and robust models.\n"
   ]
  },
  {
   "cell_type": "code",
   "execution_count": null,
   "id": "fe760126-4d4d-4d0a-9616-a55d5aba2bc9",
   "metadata": {},
   "outputs": [],
   "source": [
    "adv_acc_robust = []\n",
    "\n",
    "for eps in eps_values:\n",
    "    print(eps)\n",
    "    auto_attack = torchattacks.attacks.autoattack.AutoAttack(model, eps=eps)\n",
    "    adv_data_robust = auto_attack(torch.Tensor(x_test[random_index]), torch.tensor(y_test[random_index].argmax(-1)))\n",
    "    acc = len(np.where(model.predict(adv_data_robust, verbose=0).argmax(-1) != y_test[random_index].argmax(-1))[0]) / len(random_index) * 100\n",
    "    adv_acc_robust.append(acc)\n",
    "\n",
    "plt.plot(eps_values, adv_acc, label='Baseline Training')\n",
    "plt.plot(eps_values, adv_acc_robust, label='Robust Training')\n",
    "plt.title('Adversarial Success Rates: Baseline vs. Robust Training')\n",
    "plt.xlabel('Epsilon (attack radius)')\n",
    "plt.ylabel('Adversarial success rate')\n",
    "plt.legend()\n"
   ]
  },
  {
   "cell_type": "markdown",
   "id": "4841d6fa-43e3-44e9-b07a-d83b9557a4c3",
   "metadata": {},
   "source": [
    "## Conclusion\n",
    "\n",
    "In this tutorial, we explored the use of Jacobinet for robust training against adversarial attacks. Key takeaways include:\n",
    "1. Baseline models are vulnerable to adversarial examples, as shown by the high adversarial success rates.\n",
    "2. Robust training with Jacobinet significantly improves resistance to adversarial attacks.\n",
    "3. This workflow can be extended to other datasets and adversarial attack frameworks.\n",
    "\n",
    "Jacobinet's ability to treat the backward pass as a neural network opens exciting possibilities for research in robustness and adversarial machine learning.\n"
   ]
  },
  {
   "cell_type": "code",
   "execution_count": null,
   "id": "02163c6f-396f-4c5d-a307-05d75c24c447",
   "metadata": {},
   "outputs": [],
   "source": [
    "import keras\n",
    "import numpy as np\n",
    "import torchattacks\n",
    "import torch\n",
    "import matplotlib.pyplot as plt\n",
    "\n",
    "\n",
    "# Load the MNIST data and split it into training and testing sets\n",
    "(x_train, y_train), (x_test, y_test) = keras.datasets.mnist.load_data()\n",
    "\n",
    "# Scale the images to the [0, 1] range\n",
    "x_train = x_train.astype(\"float32\") / 255\n",
    "x_test = x_test.astype(\"float32\") / 255\n",
    "\n",
    "# Reshape images to have an additional channel dimension (1, 28, 28)\n",
    "x_train = np.expand_dims(x_train, 1)\n",
    "x_test = np.expand_dims(x_test, 1)\n",
    "\n",
    "# Convert class labels to one-hot encoded vectors\n",
    "y_train = keras.utils.to_categorical(y_train, 10)\n",
    "y_test = keras.utils.to_categorical(y_test, 10)\n",
    "\n",
    "from keras import layers, Sequential\n",
    "\n",
    "# Define the model architecture\n",
    "model = Sequential(\n",
    "    [\n",
    "        layers.Input(shape=(1, 28, 28)),\n",
    "        layers.Conv2D(32, kernel_size=(3, 3)),\n",
    "        layers.Activation(activation=\"relu\"),\n",
    "        #layers.MaxPooling2D(pool_size=(2, 2)),\n",
    "        layers.Conv2D(64, kernel_size=(3, 3)),\n",
    "        layers.Activation(activation=\"relu\"),\n",
    "        layers.Flatten(),\n",
    "        layers.Dense(10)\n",
    "    ]\n",
    ")\n",
    "model.summary()\n",
    "\n",
    "train_model = Sequential(model.layers+[layers.Activation('softmax')])\n",
    "train_model.compile(loss=keras.losses.CategoricalCrossentropy(from_logits=True), \n",
    "                    optimizer=\"adam\", \n",
    "                    metrics=[\"accuracy\"])\n",
    "train_model.fit(x_train, y_train, batch_size=128, epochs=2, validation_split=0.1)\n",
    "\n",
    "model.compile('adam', loss=keras.losses.CategoricalCrossentropy(from_logits=True),\n",
    "               metrics=['accuracy'])\n",
    "\n",
    "auto_attack = torchattacks.attacks.autoattack.AutoAttack(model, eps=0.2)\n",
    "adv_data = auto_attack(torch.Tensor(x_test[random_index]), torch.tensor(y_test[random_index].argmax(-1)))\n",
    "\n",
    "# test at which radius the model is robust to adversarial attacks\n",
    "n = 100\n",
    "random_index = np.random.permutation(len(x_test))[:n]\n",
    "adv_acc=[]\n",
    "eps_values = [np.round(eps_i, 2) for eps_i in np.linspace(0.01, 0.2, 10)]\n",
    "for eps in eps_values:\n",
    "    print(eps)\n",
    "    auto_attack = torchattacks.attacks.autoattack.AutoAttack(model, eps=eps)\n",
    "    adv_data = auto_attack(torch.Tensor(x_test[random_index]), torch.tensor(y_test[random_index].argmax(-1)))\n",
    "    acc = len(np.where(model.predict(adv_data, verbose=0).argmax(-1)!=y_test[random_index].argmax(-1))[0])/len(random_index)*100\n",
    "    adv_acc.append(acc)\n",
    "\n",
    "plt.plot(eps_values, adv_acc)\n",
    "plt.title('Distribution of adversarial succeeds given eps radius with baseline training')\n",
    "\n",
    "from jacobinet.attacks import get_adv_model\n",
    "\n",
    "pgd_model = get_adv_model(model, loss= 'logits', epsilon=1e-2, attack='pgd', n_iter=20) # Projected gradient descent attack with 20 iterations\n",
    "\n",
    "x = layers.Input(shape=(1, 28, 28))\n",
    "y = layers.Input((10,))\n",
    "\n",
    "model_adv = keras.models.Model([x, y], [model(x), model(pgd_model([x,y]))]) # concatenate model and its adverarial prediction\n",
    "model_adv.compile('adam', loss=[keras.losses.CategoricalCrossentropy(from_logits=True), keras.losses.CategoricalCrossentropy(from_logits=True)],\n",
    "               metrics=['accuracy', 'accuracy'], loss_weights=[1, 1])\n",
    "\n",
    "model_adv.fit([x_train, y_train], [y_train, y_train], batch_size=128, epochs=4, validation_split=0.1)\n",
    "\n",
    "model_adv.evaluate([x_test, y_test], [y_test, y_test])\n",
    "\n",
    "# test at which radius the model is robust to adversarial attacks\n",
    "adv_acc_robust=[]\n",
    "\n",
    "for eps in eps_values:\n",
    "    print(eps)\n",
    "    auto_attack = torchattacks.attacks.autoattack.AutoAttack(model, eps=eps)\n",
    "    adv_data_robust = auto_attack(torch.Tensor(x_test[random_index]), torch.tensor(y_test[random_index].argmax(-1)))\n",
    "    acc = len(np.where(model.predict(adv_data_robust, verbose=0).argmax(-1)!=y_test[random_index].argmax(-1))[0])/len(random_index)*100\n",
    "    adv_acc_robust.append(acc)\n",
    "\n",
    "plt.plot(eps_values, adv_acc)\n",
    "plt.plot(eps_values, adv_acc_robust)\n",
    "plt.legend(['baseline training', 'robust training'])\n",
    "plt.title('Distribution of adversarial succeeds given eps radius with baseline and robust training')\n"
   ]
  },
  {
   "cell_type": "code",
   "execution_count": 2,
   "id": "ca55d7f3-e160-4ce9-9b24-665620c8f0e7",
   "metadata": {},
   "outputs": [
    {
     "name": "stderr",
     "output_type": "stream",
     "text": [
      "/Users/ducoffe_m/Library/Python/3.9/lib/python/site-packages/onnxscript/converter.py:820: FutureWarning: 'onnxscript.values.Op.param_schemas' is deprecated in version 0.1 and will be removed in the future. Please use '.op_signature' instead.\n",
      "  param_schemas = callee.param_schemas()\n",
      "/Users/ducoffe_m/Library/Python/3.9/lib/python/site-packages/onnxscript/converter.py:820: FutureWarning: 'onnxscript.values.OnnxFunction.param_schemas' is deprecated in version 0.1 and will be removed in the future. Please use '.op_signature' instead.\n",
      "  param_schemas = callee.param_schemas()\n"
     ]
    }
   ],
   "source": [
    "import keras\n",
    "import numpy as np\n",
    "import torchattacks\n",
    "import torch\n",
    "import matplotlib.pyplot as plt\n"
   ]
  },
  {
   "cell_type": "code",
   "execution_count": 3,
   "id": "24988225-0829-428e-b758-6290ee710088",
   "metadata": {},
   "outputs": [
    {
     "data": {
      "text/html": [
       "<pre style=\"white-space:pre;overflow-x:auto;line-height:normal;font-family:Menlo,'DejaVu Sans Mono',consolas,'Courier New',monospace\"><span style=\"font-weight: bold\">Model: \"sequential\"</span>\n",
       "</pre>\n"
      ],
      "text/plain": [
       "\u001b[1mModel: \"sequential\"\u001b[0m\n"
      ]
     },
     "metadata": {},
     "output_type": "display_data"
    },
    {
     "data": {
      "text/html": [
       "<pre style=\"white-space:pre;overflow-x:auto;line-height:normal;font-family:Menlo,'DejaVu Sans Mono',consolas,'Courier New',monospace\">┏━━━━━━━━━━━━━━━━━━━━━━━━━━━━━━━━━┳━━━━━━━━━━━━━━━━━━━━━━━━┳━━━━━━━━━━━━━━━┓\n",
       "┃<span style=\"font-weight: bold\"> Layer (type)                    </span>┃<span style=\"font-weight: bold\"> Output Shape           </span>┃<span style=\"font-weight: bold\">       Param # </span>┃\n",
       "┡━━━━━━━━━━━━━━━━━━━━━━━━━━━━━━━━━╇━━━━━━━━━━━━━━━━━━━━━━━━╇━━━━━━━━━━━━━━━┩\n",
       "│ conv2d (<span style=\"color: #0087ff; text-decoration-color: #0087ff\">Conv2D</span>)                 │ (<span style=\"color: #00d7ff; text-decoration-color: #00d7ff\">None</span>, <span style=\"color: #00af00; text-decoration-color: #00af00\">32</span>, <span style=\"color: #00af00; text-decoration-color: #00af00\">26</span>, <span style=\"color: #00af00; text-decoration-color: #00af00\">26</span>)     │           <span style=\"color: #00af00; text-decoration-color: #00af00\">320</span> │\n",
       "├─────────────────────────────────┼────────────────────────┼───────────────┤\n",
       "│ activation (<span style=\"color: #0087ff; text-decoration-color: #0087ff\">Activation</span>)         │ (<span style=\"color: #00d7ff; text-decoration-color: #00d7ff\">None</span>, <span style=\"color: #00af00; text-decoration-color: #00af00\">32</span>, <span style=\"color: #00af00; text-decoration-color: #00af00\">26</span>, <span style=\"color: #00af00; text-decoration-color: #00af00\">26</span>)     │             <span style=\"color: #00af00; text-decoration-color: #00af00\">0</span> │\n",
       "├─────────────────────────────────┼────────────────────────┼───────────────┤\n",
       "│ conv2d_1 (<span style=\"color: #0087ff; text-decoration-color: #0087ff\">Conv2D</span>)               │ (<span style=\"color: #00d7ff; text-decoration-color: #00d7ff\">None</span>, <span style=\"color: #00af00; text-decoration-color: #00af00\">64</span>, <span style=\"color: #00af00; text-decoration-color: #00af00\">24</span>, <span style=\"color: #00af00; text-decoration-color: #00af00\">24</span>)     │        <span style=\"color: #00af00; text-decoration-color: #00af00\">18,496</span> │\n",
       "├─────────────────────────────────┼────────────────────────┼───────────────┤\n",
       "│ activation_1 (<span style=\"color: #0087ff; text-decoration-color: #0087ff\">Activation</span>)       │ (<span style=\"color: #00d7ff; text-decoration-color: #00d7ff\">None</span>, <span style=\"color: #00af00; text-decoration-color: #00af00\">64</span>, <span style=\"color: #00af00; text-decoration-color: #00af00\">24</span>, <span style=\"color: #00af00; text-decoration-color: #00af00\">24</span>)     │             <span style=\"color: #00af00; text-decoration-color: #00af00\">0</span> │\n",
       "├─────────────────────────────────┼────────────────────────┼───────────────┤\n",
       "│ flatten (<span style=\"color: #0087ff; text-decoration-color: #0087ff\">Flatten</span>)               │ (<span style=\"color: #00d7ff; text-decoration-color: #00d7ff\">None</span>, <span style=\"color: #00af00; text-decoration-color: #00af00\">36864</span>)          │             <span style=\"color: #00af00; text-decoration-color: #00af00\">0</span> │\n",
       "├─────────────────────────────────┼────────────────────────┼───────────────┤\n",
       "│ dense (<span style=\"color: #0087ff; text-decoration-color: #0087ff\">Dense</span>)                   │ (<span style=\"color: #00d7ff; text-decoration-color: #00d7ff\">None</span>, <span style=\"color: #00af00; text-decoration-color: #00af00\">10</span>)             │       <span style=\"color: #00af00; text-decoration-color: #00af00\">368,650</span> │\n",
       "└─────────────────────────────────┴────────────────────────┴───────────────┘\n",
       "</pre>\n"
      ],
      "text/plain": [
       "┏━━━━━━━━━━━━━━━━━━━━━━━━━━━━━━━━━┳━━━━━━━━━━━━━━━━━━━━━━━━┳━━━━━━━━━━━━━━━┓\n",
       "┃\u001b[1m \u001b[0m\u001b[1mLayer (type)                   \u001b[0m\u001b[1m \u001b[0m┃\u001b[1m \u001b[0m\u001b[1mOutput Shape          \u001b[0m\u001b[1m \u001b[0m┃\u001b[1m \u001b[0m\u001b[1m      Param #\u001b[0m\u001b[1m \u001b[0m┃\n",
       "┡━━━━━━━━━━━━━━━━━━━━━━━━━━━━━━━━━╇━━━━━━━━━━━━━━━━━━━━━━━━╇━━━━━━━━━━━━━━━┩\n",
       "│ conv2d (\u001b[38;5;33mConv2D\u001b[0m)                 │ (\u001b[38;5;45mNone\u001b[0m, \u001b[38;5;34m32\u001b[0m, \u001b[38;5;34m26\u001b[0m, \u001b[38;5;34m26\u001b[0m)     │           \u001b[38;5;34m320\u001b[0m │\n",
       "├─────────────────────────────────┼────────────────────────┼───────────────┤\n",
       "│ activation (\u001b[38;5;33mActivation\u001b[0m)         │ (\u001b[38;5;45mNone\u001b[0m, \u001b[38;5;34m32\u001b[0m, \u001b[38;5;34m26\u001b[0m, \u001b[38;5;34m26\u001b[0m)     │             \u001b[38;5;34m0\u001b[0m │\n",
       "├─────────────────────────────────┼────────────────────────┼───────────────┤\n",
       "│ conv2d_1 (\u001b[38;5;33mConv2D\u001b[0m)               │ (\u001b[38;5;45mNone\u001b[0m, \u001b[38;5;34m64\u001b[0m, \u001b[38;5;34m24\u001b[0m, \u001b[38;5;34m24\u001b[0m)     │        \u001b[38;5;34m18,496\u001b[0m │\n",
       "├─────────────────────────────────┼────────────────────────┼───────────────┤\n",
       "│ activation_1 (\u001b[38;5;33mActivation\u001b[0m)       │ (\u001b[38;5;45mNone\u001b[0m, \u001b[38;5;34m64\u001b[0m, \u001b[38;5;34m24\u001b[0m, \u001b[38;5;34m24\u001b[0m)     │             \u001b[38;5;34m0\u001b[0m │\n",
       "├─────────────────────────────────┼────────────────────────┼───────────────┤\n",
       "│ flatten (\u001b[38;5;33mFlatten\u001b[0m)               │ (\u001b[38;5;45mNone\u001b[0m, \u001b[38;5;34m36864\u001b[0m)          │             \u001b[38;5;34m0\u001b[0m │\n",
       "├─────────────────────────────────┼────────────────────────┼───────────────┤\n",
       "│ dense (\u001b[38;5;33mDense\u001b[0m)                   │ (\u001b[38;5;45mNone\u001b[0m, \u001b[38;5;34m10\u001b[0m)             │       \u001b[38;5;34m368,650\u001b[0m │\n",
       "└─────────────────────────────────┴────────────────────────┴───────────────┘\n"
      ]
     },
     "metadata": {},
     "output_type": "display_data"
    },
    {
     "data": {
      "text/html": [
       "<pre style=\"white-space:pre;overflow-x:auto;line-height:normal;font-family:Menlo,'DejaVu Sans Mono',consolas,'Courier New',monospace\"><span style=\"font-weight: bold\"> Total params: </span><span style=\"color: #00af00; text-decoration-color: #00af00\">387,466</span> (1.48 MB)\n",
       "</pre>\n"
      ],
      "text/plain": [
       "\u001b[1m Total params: \u001b[0m\u001b[38;5;34m387,466\u001b[0m (1.48 MB)\n"
      ]
     },
     "metadata": {},
     "output_type": "display_data"
    },
    {
     "data": {
      "text/html": [
       "<pre style=\"white-space:pre;overflow-x:auto;line-height:normal;font-family:Menlo,'DejaVu Sans Mono',consolas,'Courier New',monospace\"><span style=\"font-weight: bold\"> Trainable params: </span><span style=\"color: #00af00; text-decoration-color: #00af00\">387,466</span> (1.48 MB)\n",
       "</pre>\n"
      ],
      "text/plain": [
       "\u001b[1m Trainable params: \u001b[0m\u001b[38;5;34m387,466\u001b[0m (1.48 MB)\n"
      ]
     },
     "metadata": {},
     "output_type": "display_data"
    },
    {
     "data": {
      "text/html": [
       "<pre style=\"white-space:pre;overflow-x:auto;line-height:normal;font-family:Menlo,'DejaVu Sans Mono',consolas,'Courier New',monospace\"><span style=\"font-weight: bold\"> Non-trainable params: </span><span style=\"color: #00af00; text-decoration-color: #00af00\">0</span> (0.00 B)\n",
       "</pre>\n"
      ],
      "text/plain": [
       "\u001b[1m Non-trainable params: \u001b[0m\u001b[38;5;34m0\u001b[0m (0.00 B)\n"
      ]
     },
     "metadata": {},
     "output_type": "display_data"
    },
    {
     "name": "stdout",
     "output_type": "stream",
     "text": [
      "Epoch 1/2\n",
      "\u001b[1m  5/422\u001b[0m \u001b[37m━━━━━━━━━━━━━━━━━━━━\u001b[0m \u001b[1m16s\u001b[0m 39ms/step - accuracy: 0.2463 - loss: 2.2667"
     ]
    },
    {
     "name": "stderr",
     "output_type": "stream",
     "text": [
      "/Users/ducoffe_m/Library/Python/3.9/lib/python/site-packages/keras/src/backend/torch/optimizers/torch_adam.py:35: UserWarning: The operator 'aten::_foreach_mul_.Scalar' is not currently supported on the MPS backend and will fall back to run on the CPU. This may have performance implications. (Triggered internally at /Users/runner/work/pytorch/pytorch/pytorch/aten/src/ATen/mps/MPSFallback.mm:13.)\n",
      "  torch._foreach_mul_(m_list, self.beta_1)\n"
     ]
    },
    {
     "name": "stdout",
     "output_type": "stream",
     "text": [
      "\u001b[1m422/422\u001b[0m \u001b[32m━━━━━━━━━━━━━━━━━━━━\u001b[0m\u001b[37m\u001b[0m \u001b[1m14s\u001b[0m 34ms/step - accuracy: 0.7932 - loss: 1.6805 - val_accuracy: 0.9762 - val_loss: 1.4872\n",
      "Epoch 2/2\n",
      "\u001b[1m422/422\u001b[0m \u001b[32m━━━━━━━━━━━━━━━━━━━━\u001b[0m\u001b[37m\u001b[0m \u001b[1m14s\u001b[0m 34ms/step - accuracy: 0.9737 - loss: 1.4892 - val_accuracy: 0.9790 - val_loss: 1.4829\n"
     ]
    },
    {
     "data": {
      "text/plain": [
       "<keras.src.callbacks.history.History at 0x2e1f329a0>"
      ]
     },
     "execution_count": 3,
     "metadata": {},
     "output_type": "execute_result"
    }
   ],
   "source": [
    "# Load the MNIST data and split it into training and testing sets\n",
    "(x_train, y_train), (x_test, y_test) = keras.datasets.mnist.load_data()\n",
    "\n",
    "# Scale the images to the [0, 1] range\n",
    "x_train = x_train.astype(\"float32\") / 255\n",
    "x_test = x_test.astype(\"float32\") / 255\n",
    "\n",
    "# Reshape images to have an additional channel dimension (1, 28, 28)\n",
    "x_train = np.expand_dims(x_train, 1)\n",
    "x_test = np.expand_dims(x_test, 1)\n",
    "\n",
    "# Convert class labels to one-hot encoded vectors\n",
    "y_train = keras.utils.to_categorical(y_train, 10)\n",
    "y_test = keras.utils.to_categorical(y_test, 10)\n",
    "\n",
    "from keras import layers, Sequential\n",
    "\n",
    "# Define the model architecture\n",
    "model = Sequential(\n",
    "    [\n",
    "        layers.Input(shape=(1, 28, 28)),\n",
    "        layers.Conv2D(32, kernel_size=(3, 3)),\n",
    "        layers.Activation(activation=\"relu\"),\n",
    "        #layers.MaxPooling2D(pool_size=(2, 2)),\n",
    "        layers.Conv2D(64, kernel_size=(3, 3)),\n",
    "        layers.Activation(activation=\"relu\"),\n",
    "        layers.Flatten(),\n",
    "        layers.Dense(10)\n",
    "    ]\n",
    ")\n",
    "model.summary()\n",
    "\n",
    "train_model = Sequential(model.layers+[layers.Activation('softmax')])\n",
    "train_model.compile(loss=keras.losses.CategoricalCrossentropy(from_logits=True), \n",
    "                    optimizer=\"adam\", \n",
    "                    metrics=[\"accuracy\"])\n",
    "train_model.fit(x_train, y_train, batch_size=128, epochs=2, validation_split=0.1)\n",
    "\n"
   ]
  },
  {
   "cell_type": "code",
   "execution_count": 4,
   "id": "c179dcec-df33-4875-9ad8-82af8aaaad25",
   "metadata": {},
   "outputs": [],
   "source": [
    "model.compile('adam', loss=keras.losses.CategoricalCrossentropy(from_logits=True),\n",
    "               metrics=['accuracy'])"
   ]
  },
  {
   "cell_type": "code",
   "execution_count": 8,
   "id": "eaff721a-fec6-47c7-90d9-a306ff6245f2",
   "metadata": {},
   "outputs": [],
   "source": [
    "auto_attack = torchattacks.attacks.autoattack.AutoAttack(model, eps=0.2)\n",
    "adv_data = auto_attack(torch.Tensor(x_test[random_index]), torch.tensor(y_test[random_index].argmax(-1)))"
   ]
  },
  {
   "cell_type": "code",
   "execution_count": 35,
   "id": "19384161-5097-4fbb-8cf4-6e06ad92f0d2",
   "metadata": {},
   "outputs": [
    {
     "data": {
      "text/plain": [
       "0.5"
      ]
     },
     "execution_count": 35,
     "metadata": {},
     "output_type": "execute_result"
    }
   ],
   "source": []
  },
  {
   "cell_type": "code",
   "execution_count": 32,
   "id": "97ef8a6e-71a7-4ab3-95c8-2083af72acbb",
   "metadata": {},
   "outputs": [
    {
     "data": {
      "text/plain": [
       "0.004999999888241291"
      ]
     },
     "execution_count": 32,
     "metadata": {},
     "output_type": "execute_result"
    }
   ],
   "source": []
  },
  {
   "cell_type": "code",
   "execution_count": 23,
   "id": "99057f85-1e17-45ff-89a3-734d28b48c58",
   "metadata": {},
   "outputs": [
    {
     "name": "stdout",
     "output_type": "stream",
     "text": [
      "\u001b[1m32/32\u001b[0m \u001b[32m━━━━━━━━━━━━━━━━━━━━\u001b[0m\u001b[37m\u001b[0m \u001b[1m0s\u001b[0m 6ms/step\n"
     ]
    },
    {
     "data": {
      "text/plain": [
       "5"
      ]
     },
     "execution_count": 23,
     "metadata": {},
     "output_type": "execute_result"
    }
   ],
   "source": [
    "len(np.where(model.predict(adv_data).argmax(-1)==y_test[random_index].argmax(-1))[0])"
   ]
  },
  {
   "cell_type": "code",
   "execution_count": 38,
   "id": "962a0e3b-60e2-48a5-8f2e-a0b476dbfa66",
   "metadata": {},
   "outputs": [
    {
     "name": "stdout",
     "output_type": "stream",
     "text": [
      "0.01\n",
      "0.03111111111111111\n",
      "0.052222222222222225\n",
      "0.07333333333333333\n",
      "0.09444444444444444\n",
      "0.11555555555555555\n",
      "0.1366666666666667\n",
      "0.1577777777777778\n",
      "0.1788888888888889\n",
      "0.2\n"
     ]
    }
   ],
   "source": [
    "# test at which radius the model is robust to adversarial attacks\n",
    "n = 100\n",
    "random_index = np.random.permutation(len(x_test))[:n]\n",
    "adv_acc=[]\n",
    "eps_values = [np.round(eps_i, 2) for eps_i in np.linspace(0.01, 0.2, 10)]\n",
    "for eps in eps_values:\n",
    "    auto_attack = torchattacks.attacks.autoattack.AutoAttack(model, eps=eps)\n",
    "    adv_data = auto_attack(torch.Tensor(x_test[random_index]), torch.tensor(y_test[random_index].argmax(-1)))\n",
    "    acc = len(np.where(model.predict(adv_data, verbose=0).argmax(-1)!=y_test[random_index].argmax(-1))[0])/len(random_index)*100\n",
    "    adv_acc.append(acc)\n"
   ]
  },
  {
   "cell_type": "code",
   "execution_count": 49,
   "id": "5ebdd84a-35a2-4428-922f-d8e520ad0eda",
   "metadata": {},
   "outputs": [
    {
     "data": {
      "text/plain": [
       "Text(0.5, 1.0, 'Distribution of adversarial succeeds given eps radius with baseline training')"
      ]
     },
     "execution_count": 49,
     "metadata": {},
     "output_type": "execute_result"
    },
    {
     "data": {
      "image/png": "[encoded data removed]",
      "text/plain": [
       "<Figure size 640x480 with 1 Axes>"
      ]
     },
     "metadata": {},
     "output_type": "display_data"
    }
   ],
   "source": [
    "plt.plot(eps_values, adv_acc)\n",
    "plt.title('Distribution of adversarial succeeds given eps radius with baseline training')"
   ]
  },
  {
   "cell_type": "code",
   "execution_count": 50,
   "id": "d2dd3151-aa2b-4bef-bf86-17ba6cc9f948",
   "metadata": {},
   "outputs": [],
   "source": [
    "from jacobinet.attacks import get_adv_model"
   ]
  },
  {
   "cell_type": "code",
   "execution_count": 51,
   "id": "e1eec137-fca8-481a-814f-dec2e6de5ec2",
   "metadata": {},
   "outputs": [],
   "source": [
    "pgd_model = get_adv_model(model, loss= 'logits', epsilon=1e-2, attack='pgd', n_iter=20) # Projected gradient descent attack with 20 iterations\n"
   ]
  },
  {
   "cell_type": "code",
   "execution_count": 52,
   "id": "fd146c10-ced1-4638-a530-65a2c83fd538",
   "metadata": {},
   "outputs": [],
   "source": [
    "x = layers.Input(shape=(1, 28, 28))\n",
    "y = layers.Input((10,))"
   ]
  },
  {
   "cell_type": "code",
   "execution_count": 53,
   "id": "f31c77e9-123b-42a6-863d-b088f72d1f38",
   "metadata": {},
   "outputs": [],
   "source": [
    "model_adv = keras.models.Model([x, y], [model(x), model(pgd_model([x,y]))]) # concatenate model and its adverarial prediction"
   ]
  },
  {
   "cell_type": "code",
   "execution_count": 54,
   "id": "24c39b54-2785-4683-a9ab-c49f873e36c6",
   "metadata": {},
   "outputs": [],
   "source": [
    "model_adv.compile('adam', loss=[keras.losses.CategoricalCrossentropy(from_logits=True), keras.losses.CategoricalCrossentropy(from_logits=True)],\n",
    "               metrics=['accuracy', 'accuracy'], loss_weights=[1, 1])"
   ]
  },
  {
   "cell_type": "code",
   "execution_count": 58,
   "id": "7ea9bdc4-5f81-4085-a7b5-cb9f67c858d7",
   "metadata": {},
   "outputs": [
    {
     "name": "stdout",
     "output_type": "stream",
     "text": [
      "Epoch 1/2\n",
      "\u001b[1m422/422\u001b[0m \u001b[32m━━━━━━━━━━━━━━━━━━━━\u001b[0m\u001b[37m\u001b[0m \u001b[1m231s\u001b[0m 546ms/step - loss: 0.3518 - sequential_accuracy: 0.9865 - sequential_accuracy_1: 0.9093 - sequential_loss: 0.3037 - val_loss: 0.2652 - val_sequential_accuracy: 0.9873 - val_sequential_accuracy_1: 0.9338 - val_sequential_loss: 0.2217\n",
      "Epoch 2/2\n",
      "\u001b[1m422/422\u001b[0m \u001b[32m━━━━━━━━━━━━━━━━━━━━\u001b[0m\u001b[37m\u001b[0m \u001b[1m229s\u001b[0m 543ms/step - loss: 0.2778 - sequential_accuracy: 0.9883 - sequential_accuracy_1: 0.9257 - sequential_loss: 0.2391 - val_loss: 0.2351 - val_sequential_accuracy: 0.9895 - val_sequential_accuracy_1: 0.9402 - val_sequential_loss: 0.1950\n"
     ]
    },
    {
     "data": {
      "text/plain": [
       "<keras.src.callbacks.history.History at 0x4d5c548e0>"
      ]
     },
     "execution_count": 58,
     "metadata": {},
     "output_type": "execute_result"
    }
   ],
   "source": [
    "model_adv.fit([x_train, y_train], [y_train, y_train], batch_size=128, epochs=2, validation_split=0.1)"
   ]
  },
  {
   "cell_type": "code",
   "execution_count": 61,
   "id": "f0c069ca-845e-4eeb-a70f-deb05256bb40",
   "metadata": {},
   "outputs": [
    {
     "name": "stdout",
     "output_type": "stream",
     "text": [
      "\u001b[1m313/313\u001b[0m \u001b[32m━━━━━━━━━━━━━━━━━━━━\u001b[0m\u001b[37m\u001b[0m \u001b[1m56s\u001b[0m 179ms/step - loss: 0.3734 - sequential_3_accuracy: 0.9825 - sequential_3_accuracy_1: 0.9068 - sequential_3_loss: 0.3192\n"
     ]
    },
    {
     "data": {
      "text/plain": [
       "[0.315471351146698,\n",
       " 0.2704598009586334,\n",
       " 0.2704598009586334,\n",
       " 0.9853000044822693,\n",
       " 0.9215999841690063]"
      ]
     },
     "execution_count": 61,
     "metadata": {},
     "output_type": "execute_result"
    }
   ],
   "source": [
    "model_adv.evaluate([x_test, y_test], [y_test, y_test])"
   ]
  },
  {
   "cell_type": "code",
   "execution_count": 59,
   "id": "8aa03da8-ee23-4cc2-9dd8-bf4290a2bd68",
   "metadata": {},
   "outputs": [
    {
     "data": {
      "text/plain": [
       "[2.0, 4.0, 4.0, 5.0, 6.0, 6.0, 8.0, 11.0, 22.0, 35.0]"
      ]
     },
     "execution_count": 59,
     "metadata": {},
     "output_type": "execute_result"
    }
   ],
   "source": [
    "adv_acc_robust"
   ]
  },
  {
   "cell_type": "code",
   "execution_count": 62,
   "id": "60b9b0a2-795a-4db0-9256-1c33e245103a",
   "metadata": {},
   "outputs": [
    {
     "data": {
      "text/plain": [
       "[2.0, 2.0, 2.0, 3.0, 4.0, 6.0, 7.000000000000001, 8.0, 12.0, 17.0]"
      ]
     },
     "execution_count": 62,
     "metadata": {},
     "output_type": "execute_result"
    }
   ],
   "source": [
    "adv_acc_robust"
   ]
  },
  {
   "cell_type": "code",
   "execution_count": 60,
   "id": "cc6890c3-1ca0-4ec9-b386-088857679368",
   "metadata": {},
   "outputs": [
    {
     "name": "stdout",
     "output_type": "stream",
     "text": [
      "0.01\n",
      "0.03\n",
      "0.05\n",
      "0.07\n",
      "0.09\n",
      "0.12\n",
      "0.14\n",
      "0.16\n",
      "0.18\n",
      "0.2\n"
     ]
    }
   ],
   "source": [
    "# test at which radius the model is robust to adversarial attacks\n",
    "adv_acc_robust=[]\n",
    "\n",
    "for eps in eps_values:\n",
    "    print(eps)\n",
    "    auto_attack = torchattacks.attacks.autoattack.AutoAttack(model, eps=eps)\n",
    "    adv_data_robust = auto_attack(torch.Tensor(x_test[random_index]), torch.tensor(y_test[random_index].argmax(-1)))\n",
    "    acc = len(np.where(model.predict(adv_data_robust, verbose=0).argmax(-1)!=y_test[random_index].argmax(-1))[0])/len(random_index)*100\n",
    "    adv_acc_robust.append(acc)\n"
   ]
  },
  {
   "cell_type": "code",
   "execution_count": 61,
   "id": "b066f621-0c79-45d5-abd4-60924fc5b179",
   "metadata": {},
   "outputs": [
    {
     "data": {
      "text/plain": [
       "Text(0.5, 1.0, 'Distribution of adversarial succeeds given eps radius with baseline and robust training')"
      ]
     },
     "execution_count": 61,
     "metadata": {},
     "output_type": "execute_result"
    },
    {
     "data": {
      "image/png": "[encoded data removed]",
      "text/plain": [
       "<Figure size 640x480 with 1 Axes>"
      ]
     },
     "metadata": {},
     "output_type": "display_data"
    }
   ],
   "source": [
    "plt.plot(eps_values, adv_acc)\n",
    "plt.plot(eps_values, adv_acc_robust)\n",
    "plt.legend(['baseline training', 'robust training'])\n",
    "plt.title('Distribution of adversarial succeeds given eps radius with baseline and robust training')"
   ]
  },
  {
   "cell_type": "code",
   "execution_count": 62,
   "id": "36b447a1-140f-4045-ad70-8bac1175e894",
   "metadata": {},
   "outputs": [],
   "source": [
    "#fgsm_attack = torchattacks.FGSM(torch_model, eps=0.1)\n",
    "#pgd_attack = torchattacks.PGD(torch_model, eps=0.1, steps=1000)\n",
    "auto_attack = torchattacks.attacks.autoattack.AutoAttack(model, eps=0.2)\n",
    "\n",
    "#.PGD(torch_lip_model, eps=10., steps=steps)"
   ]
  },
  {
   "cell_type": "code",
   "execution_count": 63,
   "id": "d5a0f038-61d9-4c03-8a9f-5c6ff7581dff",
   "metadata": {},
   "outputs": [
    {
     "data": {
      "text/plain": [
       "torch.int64"
      ]
     },
     "execution_count": 63,
     "metadata": {},
     "output_type": "execute_result"
    }
   ],
   "source": [
    "torch.tensor(y_train[:10].argmax(-1)).dtype"
   ]
  },
  {
   "cell_type": "code",
   "execution_count": 64,
   "id": "8b1d2cc5-a9ed-464d-9472-d8d33af5a9c2",
   "metadata": {},
   "outputs": [],
   "source": [
    "adv_data = auto_attack(torch.Tensor(x_train[:10]), torch.tensor(y_train[:10].argmax(-1)))"
   ]
  },
  {
   "cell_type": "code",
   "execution_count": 65,
   "id": "f84e0271-201a-471e-8aa7-e9b3fd76a63b",
   "metadata": {},
   "outputs": [],
   "source": [
    "model.compile('adam', loss=keras.losses.CategoricalCrossentropy(from_logits=True),\n",
    "               metrics=['accuracy'])"
   ]
  },
  {
   "cell_type": "code",
   "execution_count": 66,
   "id": "d44be46e-3cef-4490-94f0-df78891419e4",
   "metadata": {},
   "outputs": [
    {
     "name": "stdout",
     "output_type": "stream",
     "text": [
      "\u001b[1m1/1\u001b[0m \u001b[32m━━━━━━━━━━━━━━━━━━━━\u001b[0m\u001b[37m\u001b[0m \u001b[1m0s\u001b[0m 30ms/step - accuracy: 0.9000 - loss: 0.2550\n"
     ]
    },
    {
     "data": {
      "text/plain": [
       "[0.2549683153629303, 0.8999999761581421]"
      ]
     },
     "execution_count": 66,
     "metadata": {},
     "output_type": "execute_result"
    }
   ],
   "source": [
    "model.evaluate(adv_data, y_train[:10])"
   ]
  },
  {
   "cell_type": "code",
   "execution_count": 67,
   "id": "a6c2cda8-2f0c-4bd6-b334-7173fd1391e4",
   "metadata": {},
   "outputs": [],
   "source": [
    "adv_data_ = pgd_model([x_train[:10], y_train[:10]])"
   ]
  },
  {
   "cell_type": "code",
   "execution_count": 68,
   "id": "7d941bbb-5ccc-4876-9973-0b03c8d53f3b",
   "metadata": {},
   "outputs": [
    {
     "name": "stdout",
     "output_type": "stream",
     "text": [
      "[5 0 4 1 9 2 1 3 1 4] tensor([3, 0, 4, 1, 9, 2, 1, 3, 1, 4], device='mps:0') tensor([3, 0, 4, 1, 9, 2, 1, 3, 1, 4], device='mps:0')\n"
     ]
    }
   ],
   "source": [
    "print(y_train[:10].argmax(-1), model(adv_data_).argmax(-1), model(adv_data).argmax(-1))"
   ]
  },
  {
   "cell_type": "code",
   "execution_count": null,
   "id": "ea0088ec-577a-4dcc-91ae-0b813beaa564",
   "metadata": {},
   "outputs": [],
   "source": []
  }
 ],
 "metadata": {
  "kernelspec": {
   "display_name": "Python 3 (ipykernel)",
   "language": "python",
   "name": "python3"
  },
  "language_info": {
   "codemirror_mode": {
    "name": "ipython",
    "version": 3
   },
   "file_extension": ".py",
   "mimetype": "text/x-python",
   "name": "python",
   "nbconvert_exporter": "python",
   "pygments_lexer": "ipython3",
   "version": "3.9.6"
  }
 },
 "nbformat": 4,
 "nbformat_minor": 5
}
