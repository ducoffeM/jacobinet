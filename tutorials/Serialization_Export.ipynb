{
 "cells": [
  {
   "cell_type": "markdown",
   "id": "6861b9bd-cf15-4b71-b2eb-51ea9d325347",
   "metadata": {},
   "source": [
    "# From Keras to ONNX: A Complete Guide to Jacobinet Backward Model Serialization\n",
    "\n",
    "In this tutorial, we demonstrate how to serialize a Jacobinet model using Keras native serialization tools. We also show how to export Jacobinet models into the ONNX format, which is essential for industrial end-to-end pipelines.\n",
    "\n",
    "**Why this matters**:\n",
    "- **Portability**: ONNX models can be used across different platforms and frameworks.\n",
    "- **Interoperability**: The serialized Keras model can be reloaded and validated, ensuring no corruption occurs.\n",
    "\n",
    "---\n",
    "\n",
    "## Step 1: Define the Forward Model\n",
    "\n",
    "We will create a simple feedforward neural network with the following architecture:\n",
    "- **Input**: Shape `(3,)`\n",
    "- **Dense Layer**: 10 units + ReLU activation\n",
    "- **Dense Layer**: 1 unit (output layer)\n",
    "\n",
    "This model will be used as the basis for computing the Jacobian later on.\n"
   ]
  },
  {
   "cell_type": "code",
   "execution_count": 1,
   "id": "97018fa3-30dc-44fe-a2a6-1d6b7cc031f9",
   "metadata": {},
   "outputs": [
    {
     "name": "stderr",
     "output_type": "stream",
     "text": [
      "/Users/ducoffe_m/Library/Python/3.9/lib/python/site-packages/onnxscript/converter.py:820: FutureWarning: 'onnxscript.values.Op.param_schemas' is deprecated in version 0.1 and will be removed in the future. Please use '.op_signature' instead.\n",
      "  param_schemas = callee.param_schemas()\n",
      "/Users/ducoffe_m/Library/Python/3.9/lib/python/site-packages/onnxscript/converter.py:820: FutureWarning: 'onnxscript.values.OnnxFunction.param_schemas' is deprecated in version 0.1 and will be removed in the future. Please use '.op_signature' instead.\n",
      "  param_schemas = callee.param_schemas()\n"
     ]
    },
    {
     "name": "stdout",
     "output_type": "stream",
     "text": [
      "### Forward Model Summary\n"
     ]
    },
    {
     "name": "stderr",
     "output_type": "stream",
     "text": [
      "/Users/ducoffe_m/Library/Python/3.9/lib/python/site-packages/keras/src/layers/core/dense.py:87: UserWarning: Do not pass an `input_shape`/`input_dim` argument to a layer. When using Sequential models, prefer using an `Input(shape)` object as the first layer in the model instead.\n",
      "  super().__init__(activity_regularizer=activity_regularizer, **kwargs)\n"
     ]
    },
    {
     "data": {
      "text/html": [
       "<pre style=\"white-space:pre;overflow-x:auto;line-height:normal;font-family:Menlo,'DejaVu Sans Mono',consolas,'Courier New',monospace\"><span style=\"font-weight: bold\">Model: \"sequential\"</span>\n",
       "</pre>\n"
      ],
      "text/plain": [
       "\u001b[1mModel: \"sequential\"\u001b[0m\n"
      ]
     },
     "metadata": {},
     "output_type": "display_data"
    },
    {
     "data": {
      "text/html": [
       "<pre style=\"white-space:pre;overflow-x:auto;line-height:normal;font-family:Menlo,'DejaVu Sans Mono',consolas,'Courier New',monospace\">┏━━━━━━━━━━━━━━━━━━━━━━━━━━━━━━━━━┳━━━━━━━━━━━━━━━━━━━━━━━━┳━━━━━━━━━━━━━━━┓\n",
       "┃<span style=\"font-weight: bold\"> Layer (type)                    </span>┃<span style=\"font-weight: bold\"> Output Shape           </span>┃<span style=\"font-weight: bold\">       Param # </span>┃\n",
       "┡━━━━━━━━━━━━━━━━━━━━━━━━━━━━━━━━━╇━━━━━━━━━━━━━━━━━━━━━━━━╇━━━━━━━━━━━━━━━┩\n",
       "│ Dense1 (<span style=\"color: #0087ff; text-decoration-color: #0087ff\">Dense</span>)                  │ (<span style=\"color: #00d7ff; text-decoration-color: #00d7ff\">None</span>, <span style=\"color: #00af00; text-decoration-color: #00af00\">10</span>)             │            <span style=\"color: #00af00; text-decoration-color: #00af00\">40</span> │\n",
       "├─────────────────────────────────┼────────────────────────┼───────────────┤\n",
       "│ ReLU1 (<span style=\"color: #0087ff; text-decoration-color: #0087ff\">Activation</span>)              │ (<span style=\"color: #00d7ff; text-decoration-color: #00d7ff\">None</span>, <span style=\"color: #00af00; text-decoration-color: #00af00\">10</span>)             │             <span style=\"color: #00af00; text-decoration-color: #00af00\">0</span> │\n",
       "├─────────────────────────────────┼────────────────────────┼───────────────┤\n",
       "│ Output (<span style=\"color: #0087ff; text-decoration-color: #0087ff\">Dense</span>)                  │ (<span style=\"color: #00d7ff; text-decoration-color: #00d7ff\">None</span>, <span style=\"color: #00af00; text-decoration-color: #00af00\">1</span>)              │            <span style=\"color: #00af00; text-decoration-color: #00af00\">11</span> │\n",
       "└─────────────────────────────────┴────────────────────────┴───────────────┘\n",
       "</pre>\n"
      ],
      "text/plain": [
       "┏━━━━━━━━━━━━━━━━━━━━━━━━━━━━━━━━━┳━━━━━━━━━━━━━━━━━━━━━━━━┳━━━━━━━━━━━━━━━┓\n",
       "┃\u001b[1m \u001b[0m\u001b[1mLayer (type)                   \u001b[0m\u001b[1m \u001b[0m┃\u001b[1m \u001b[0m\u001b[1mOutput Shape          \u001b[0m\u001b[1m \u001b[0m┃\u001b[1m \u001b[0m\u001b[1m      Param #\u001b[0m\u001b[1m \u001b[0m┃\n",
       "┡━━━━━━━━━━━━━━━━━━━━━━━━━━━━━━━━━╇━━━━━━━━━━━━━━━━━━━━━━━━╇━━━━━━━━━━━━━━━┩\n",
       "│ Dense1 (\u001b[38;5;33mDense\u001b[0m)                  │ (\u001b[38;5;45mNone\u001b[0m, \u001b[38;5;34m10\u001b[0m)             │            \u001b[38;5;34m40\u001b[0m │\n",
       "├─────────────────────────────────┼────────────────────────┼───────────────┤\n",
       "│ ReLU1 (\u001b[38;5;33mActivation\u001b[0m)              │ (\u001b[38;5;45mNone\u001b[0m, \u001b[38;5;34m10\u001b[0m)             │             \u001b[38;5;34m0\u001b[0m │\n",
       "├─────────────────────────────────┼────────────────────────┼───────────────┤\n",
       "│ Output (\u001b[38;5;33mDense\u001b[0m)                  │ (\u001b[38;5;45mNone\u001b[0m, \u001b[38;5;34m1\u001b[0m)              │            \u001b[38;5;34m11\u001b[0m │\n",
       "└─────────────────────────────────┴────────────────────────┴───────────────┘\n"
      ]
     },
     "metadata": {},
     "output_type": "display_data"
    },
    {
     "data": {
      "text/html": [
       "<pre style=\"white-space:pre;overflow-x:auto;line-height:normal;font-family:Menlo,'DejaVu Sans Mono',consolas,'Courier New',monospace\"><span style=\"font-weight: bold\"> Total params: </span><span style=\"color: #00af00; text-decoration-color: #00af00\">51</span> (204.00 B)\n",
       "</pre>\n"
      ],
      "text/plain": [
       "\u001b[1m Total params: \u001b[0m\u001b[38;5;34m51\u001b[0m (204.00 B)\n"
      ]
     },
     "metadata": {},
     "output_type": "display_data"
    },
    {
     "data": {
      "text/html": [
       "<pre style=\"white-space:pre;overflow-x:auto;line-height:normal;font-family:Menlo,'DejaVu Sans Mono',consolas,'Courier New',monospace\"><span style=\"font-weight: bold\"> Trainable params: </span><span style=\"color: #00af00; text-decoration-color: #00af00\">51</span> (204.00 B)\n",
       "</pre>\n"
      ],
      "text/plain": [
       "\u001b[1m Trainable params: \u001b[0m\u001b[38;5;34m51\u001b[0m (204.00 B)\n"
      ]
     },
     "metadata": {},
     "output_type": "display_data"
    },
    {
     "data": {
      "text/html": [
       "<pre style=\"white-space:pre;overflow-x:auto;line-height:normal;font-family:Menlo,'DejaVu Sans Mono',consolas,'Courier New',monospace\"><span style=\"font-weight: bold\"> Non-trainable params: </span><span style=\"color: #00af00; text-decoration-color: #00af00\">0</span> (0.00 B)\n",
       "</pre>\n"
      ],
      "text/plain": [
       "\u001b[1m Non-trainable params: \u001b[0m\u001b[38;5;34m0\u001b[0m (0.00 B)\n"
      ]
     },
     "metadata": {},
     "output_type": "display_data"
    }
   ],
   "source": [
    "# Import necessary libraries\n",
    "import keras\n",
    "from keras.models import Sequential\n",
    "from keras.layers import Dense, Activation, Input\n",
    "\n",
    "# Build the forward model\n",
    "model = Sequential(\n",
    "    [\n",
    "        Dense(10, input_shape=(3,), name='Dense1'),\n",
    "        Activation('relu', name='ReLU1'),\n",
    "        Dense(1, name='Output'),\n",
    "    ]\n",
    ")\n",
    "\n",
    "# Generate a forward pass to initialize model weights\n",
    "_ = model(Input((3,)))\n",
    "\n",
    "# Display model summary\n",
    "print(\"### Forward Model Summary\")\n",
    "model.summary()"
   ]
  },
  {
   "cell_type": "markdown",
   "id": "61de2533-dd60-42ca-b8d4-331030d6d6b9",
   "metadata": {},
   "source": [
    "## Step 2: Compute the Backward Model Using Jacobinet\n",
    "\n",
    "Jacobinet allows us to compute a **backward model** that represents the gradient of the output with respect to the input. This is key for understanding the chain rule in neural networks, fundamental to backpropagation.\n",
    "\n",
    "We will now compute the backward model using the `clone_to_backward` function from Jacobinet."
   ]
  },
  {
   "cell_type": "code",
   "execution_count": 2,
   "id": "36ece774-c952-4cbb-9e82-ec9ae0c5786f",
   "metadata": {},
   "outputs": [],
   "source": [
    "# Import Jacobinet and convert the forward model to a backward model\n",
    "import jacobinet\n",
    "from jacobinet import clone_to_backward\n",
    "\n",
    "backward_model = clone_to_backward(model)"
   ]
  },
  {
   "cell_type": "markdown",
   "id": "099ce2ce-5d48-4fa3-81df-f7300b04a18f",
   "metadata": {},
   "source": [
    "We can save this backward model using Keras' native saving and loading functions."
   ]
  },
  {
   "cell_type": "code",
   "execution_count": 3,
   "id": "3fcbe280-cf43-46b2-a272-dae4743fe741",
   "metadata": {},
   "outputs": [
    {
     "name": "stdout",
     "output_type": "stream",
     "text": [
      "\u001b[1m1/1\u001b[0m \u001b[32m━━━━━━━━━━━━━━━━━━━━\u001b[0m\u001b[37m\u001b[0m \u001b[1m0s\u001b[0m 55ms/step\n",
      "\u001b[1m1/1\u001b[0m \u001b[32m━━━━━━━━━━━━━━━━━━━━\u001b[0m\u001b[37m\u001b[0m \u001b[1m0s\u001b[0m 3ms/step\n",
      "\u001b[1m1/1\u001b[0m \u001b[32m━━━━━━━━━━━━━━━━━━━━\u001b[0m\u001b[37m\u001b[0m \u001b[1m0s\u001b[0m 3ms/step\n"
     ]
    }
   ],
   "source": [
    "# Save and load the backward model using Keras serialization\n",
    "import keras\n",
    "\n",
    "keras.models.save_model(backward_model, 'my_backward_model.keras')\n",
    "\n",
    "# Load the backward model\n",
    "my_loaded_backward_model = keras.models.load_model('my_backward_model.keras')\n",
    "\n",
    "# Generate random test input and gradient\n",
    "import numpy as np\n",
    "random_input = np.random.rand(3)[None].astype('float32')  # Batch size 1, 3 features\n",
    "random_grad = np.ones((1, 1), dtype='float32')\n",
    "\n",
    "# Check for model consistency (ensure loaded model matches original model)\n",
    "assert np.allclose(\n",
    "    backward_model.predict([random_input, random_grad]), \n",
    "    my_loaded_backward_model.predict([random_input, random_grad])\n",
    "), \"Loaded backward model does not match original!\"\n",
    "\n",
    "keras_jacobian = backward_model.predict([random_input, random_grad])"
   ]
  },
  {
   "cell_type": "markdown",
   "id": "4c77dfb8-b9cf-4433-b274-1d4646500d38",
   "metadata": {},
   "source": [
    "## Step 3: Export Backward Model to ONNX\n",
    "\n",
    "**Why ONNX?**\n",
    "- ONNX allows the model to be run on different platforms and inference engines.\n",
    "- This enables industrial-level interoperability and simplifies deployment.\n",
    "\n",
    "**Requirements**: \n",
    "- `torch` and `onnx` libraries are required for exporting the model.\n"
   ]
  },
  {
   "cell_type": "code",
   "execution_count": 4,
   "id": "2d1ba3c3-89da-4ab6-9bb9-4c87653e2603",
   "metadata": {},
   "outputs": [
    {
     "name": "stdout",
     "output_type": "stream",
     "text": [
      "ONNX model successfully exported as 'backward_model_torch.onnx'\n"
     ]
    },
    {
     "name": "stderr",
     "output_type": "stream",
     "text": [
      "/Users/ducoffe_m/Library/Python/3.9/lib/python/site-packages/keras/src/backend/common/variables.py:555: TracerWarning: Converting a tensor to a Python integer might cause the trace to be incorrect. We can't record the data flow of Python values, so this value will be treated as a constant in the future. This means that the trace might not generalize to other inputs!\n",
      "  shape = tuple(map(lambda x: int(x) if x is not None else None, shape))\n"
     ]
    }
   ],
   "source": [
    "import torch\n",
    "import torch.nn as nn\n",
    "\n",
    "# Define a Torch wrapper around the Keras model\n",
    "class Keras2Torch(nn.Module):\n",
    "    def __init__(self, keras_model):\n",
    "        super().__init__()\n",
    "        self.keras_model = keras_model\n",
    "\n",
    "    def forward(self, x, y):\n",
    "        z = self.keras_model([x, y])\n",
    "        return z\n",
    "\n",
    "# Wrap the Keras backward model in the PyTorch interface\n",
    "torch_model = Keras2Torch(backward_model)\n",
    "\n",
    "# Generate random input and gradient for Torch\n",
    "torch_input = torch.randn(1, 3)  # Batch size 1, 3 features\n",
    "torch_grad = torch.ones(1, 1)    # Gradient size matches the output\n",
    "\n",
    "# Run a forward pass to ensure no errors\n",
    "_ = torch_model(torch_input, torch_grad) \n",
    "\n",
    "# Export the backward model to ONNX format\n",
    "torch.onnx.export(\n",
    "    torch_model,                         # Model to export\n",
    "    (torch_input, torch_grad),           # Model inputs (as a tuple)\n",
    "    \"backward_model_torch.onnx\",       # File name to save as\n",
    "    input_names=['input_x', 'input_grad'],\n",
    "    output_names=['output'],\n",
    "    dynamic_axes={'input_x': {0: 'batch_size'}, 'output': {0: 'batch_size'}}  # Handle batch size changes\n",
    ")\n",
    "\n",
    "print(\"ONNX model successfully exported as 'backward_model_torch.onnx'\")"
   ]
  },
  {
   "cell_type": "markdown",
   "id": "5b50cbc4-e20b-4155-8c69-79d6a847eb7c",
   "metadata": {},
   "source": [
    "## Step 4: Validate the ONNX Model\n",
    "\n",
    "We can use `onnx` to load and check the model, ensuring there is no corruption.\n"
   ]
  },
  {
   "cell_type": "code",
   "execution_count": 5,
   "id": "ac377ba2-b862-432c-b2aa-0ded87e06bd5",
   "metadata": {},
   "outputs": [
    {
     "name": "stdout",
     "output_type": "stream",
     "text": [
      "ONNX model is valid!\n"
     ]
    }
   ],
   "source": [
    "import onnx\n",
    "\n",
    "# Load the exported ONNX model\n",
    "onnx_model = onnx.load(\"backward_model_torch.onnx\")\n",
    "\n",
    "# Check the model for errors\n",
    "try:\n",
    "    onnx.checker.check_model(onnx_model)\n",
    "    print(\"ONNX model is valid!\")\n",
    "except Exception as e:\n",
    "    print(\"ONNX model validation failed:\", e)"
   ]
  },
  {
   "cell_type": "markdown",
   "id": "ff7ab46e-d668-429c-8cfd-0e72ba12d83d",
   "metadata": {},
   "source": [
    "## Step 5: Inference Using ONNX Runtime\n",
    "\n",
    "To ensure the exported model works as expected, we'll run inference on the ONNX model using **ONNX Runtime**."
   ]
  },
  {
   "cell_type": "code",
   "execution_count": 6,
   "id": "c1ce31f9-c7b4-4d6d-b35e-d0862c6f170f",
   "metadata": {},
   "outputs": [
    {
     "name": "stdout",
     "output_type": "stream",
     "text": [
      "Input names: ['input_x', 'input_grad']\n",
      "Output names: ['output']\n",
      "ONNX Inference Successful! Predicted: [[-0.1478462   0.087643    0.19766785]], Keras Prediction: [[-0.14784622  0.087643    0.19766785]]\n"
     ]
    }
   ],
   "source": [
    "import onnxruntime as ort\n",
    "\n",
    "# Create an ONNX runtime session\n",
    "ort_sess = ort.InferenceSession(\"backward_model_torch.onnx\")\n",
    "\n",
    "# Print the input and output names of the ONNX graph\n",
    "print(\"Input names:\", [input.name for input in ort_sess.get_inputs()])\n",
    "print(\"Output names:\", [output.name for output in ort_sess.get_outputs()])\n",
    "\n",
    "# Run inference using the same random inputs\n",
    "onnx_inputs = {'input_x': random_input, 'input_grad': random_grad}\n",
    "onnx_jacobian = ort_sess.run(None, onnx_inputs)\n",
    "\n",
    "# Compare ONNX inference with the Keras jacobian\n",
    "assert np.allclose(onnx_jacobian[0], keras_jacobian, atol=1e-5), \"ONNX inference does not match Keras!\"\n",
    "\n",
    "print(f'ONNX Inference Successful! Predicted: {onnx_jacobian[0]}, Keras Prediction: {keras_jacobian}')"
   ]
  },
  {
   "cell_type": "markdown",
   "id": "0353b857-c3e7-45a6-8440-034771f4b159",
   "metadata": {},
   "source": [
    "## Step 6: Visualize the ONNX Model\n",
    "\n",
    "You can visualize the structure of the ONNX model using **Netron**, which makes it easy to debug and understand model structure.\n",
    "\n",
    "**Installation**:\n",
    "```bash\n",
    "pip install netron\n",
    "```\n",
    "\n",
    "**Visualization**:\n",
    "```bash\n",
    "netron -b backward_model_torch.onnx\n",
    "```\n",
    "\n",
    "Netron will open a web page showing the full model graph, its layers, and data flow.\n",
    "\n",
    "---\n",
    "\n",
    "With this process, you have a full industrial-grade pipeline for converting Jacobinet models to ONNX. This allows you to use your model in various environments, ensuring high standards for ARP compliance and reproducibility.\n"
   ]
  }
 ],
 "metadata": {
  "kernelspec": {
   "display_name": "Python 3 (ipykernel)",
   "language": "python",
   "name": "python3"
  },
  "language_info": {
   "codemirror_mode": {
    "name": "ipython",
    "version": 3
   },
   "file_extension": ".py",
   "mimetype": "text/x-python",
   "name": "python",
   "nbconvert_exporter": "python",
   "pygments_lexer": "ipython3",
   "version": "3.9.6"
  }
 },
 "nbformat": 4,
 "nbformat_minor": 5
}
