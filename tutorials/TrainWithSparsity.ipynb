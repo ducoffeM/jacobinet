{
 "cells": [
  {
   "cell_type": "markdown",
   "id": "622c4ff2-3c75-46a1-8737-513a35ed7962",
   "metadata": {},
   "source": [
    "# Tutorial: Training Neural Networks with Sparse Input Decision Using Jacobinet\n",
    "This tutorial provides a step-by-step guide to building and training a neural network with sparse input decision support using the *Jacobinet* library, which is built on top of Keras. We will explore key concepts, implement the neural network, train it, and visualize the sparsity of the gradient to understand its implications for robustness and interpretability."
   ]
  },
  {
   "cell_type": "markdown",
   "id": "d45a3e8a-46db-4fff-b4fc-d7b8c29c85f8",
   "metadata": {},
   "source": [
    "- When running this notebook on Colab, we need to install *decomon* if on Colab. \n",
    "- If you run this notebook locally, do it inside the environment in which you [installed *jacobinet*](https://ducoffeM.github.io/jacobinet/main/install.html)."
   ]
  },
  {
   "cell_type": "code",
   "execution_count": null,
   "id": "dd9327d1-37a9-481c-b3af-faa0f587a4ef",
   "metadata": {},
   "outputs": [],
   "source": [
    "# On Colab: install the library\n",
    "on_colab = \"google.colab\" in str(get_ipython())\n",
    "if on_colab:\n",
    "    import sys  # noqa: avoid having this import removed by pycln\n",
    "\n",
    "    # install dev version for dev doc, or release version for release doc\n",
    "    !{sys.executable} -m pip install -U pip\n",
    "    !{sys.executable} -m pip install git+https://github.com/ducoffeM/jacobinet@main#egg=decomon\n",
    "    # install desired backend (by default torch)\n",
    "    !{sys.executable} -m pip install \"torch\"\n",
    "    !{sys.executable} -m pip install \"keras\"\n",
    "\n",
    "    # extra librabry used in this notebook\n",
    "    !{sys.executable} -m pip install \"numpy\"\n",
    "    !{sys.executable} -m pip install \"matplotlib\"\n",
    "    # missing imports IPython\n",
    "    "
   ]
  },
  {
   "cell_type": "markdown",
   "id": "27c8a621-914a-44e5-876b-e43f66f4d774",
   "metadata": {},
   "source": [
    "## 1. Why Sparse Support is Useful\n",
    "Before diving into the code, let’s understand why sparse support matters.\n",
    "\n",
    "- Robustness: Sparse gradients focus only on the most important features of the input, ignoring irrelevant noise. This makes the network less sensitive to small perturbations or adversarial attacks.\n",
    "- Interpretability: Sparse gradients help identify which parts of the input are the most influential in making a decision. This enhances the model's interpretability, as we can visualize which pixels (in image classification) contribute the most to predictions.\n",
    "\n",
    "\n",
    "These two properties are crucial in high-stakes applications like healthcare, finance, and autonomous systems, where robustness and explainability are essential."
   ]
  },
  {
   "cell_type": "markdown",
   "id": "00a4164e-570e-4b9f-a4ee-408cad1392bc",
   "metadata": {},
   "source": [
    "### Prerequisites"
   ]
  },
  {
   "cell_type": "code",
   "execution_count": 1,
   "id": "a85dd65e-820e-411e-a37d-df36d72d590f",
   "metadata": {},
   "outputs": [],
   "source": [
    "# !pip install keras jacobinet numpy matplotlib\n",
    "# warning for mac users if .fit raise an error set the environment variable PYTORCH_ENABLE_MPS_FALLBACK=1"
   ]
  },
  {
   "cell_type": "markdown",
   "id": "cd48088c-7796-4d95-9352-de2426753631",
   "metadata": {},
   "source": [
    "## 3. Loading and Preprocessing the Data\n",
    "We will use the MNIST dataset, a collection of 28x28 grayscale handwritten digit images. Here, we load and preprocess the data."
   ]
  },
  {
   "cell_type": "code",
   "execution_count": 2,
   "id": "bf5018ea-1625-459c-bac9-4d1e9f97dbe5",
   "metadata": {},
   "outputs": [
    {
     "name": "stderr",
     "output_type": "stream",
     "text": [
      "/Users/ducoffe_m/Library/Python/3.9/lib/python/site-packages/onnxscript/converter.py:820: FutureWarning: 'onnxscript.values.Op.param_schemas' is deprecated in version 0.1 and will be removed in the future. Please use '.op_signature' instead.\n",
      "  param_schemas = callee.param_schemas()\n",
      "/Users/ducoffe_m/Library/Python/3.9/lib/python/site-packages/onnxscript/converter.py:820: FutureWarning: 'onnxscript.values.OnnxFunction.param_schemas' is deprecated in version 0.1 and will be removed in the future. Please use '.op_signature' instead.\n",
      "  param_schemas = callee.param_schemas()\n"
     ]
    }
   ],
   "source": [
    "import keras\n",
    "import numpy as np\n",
    "\n",
    "# Load the MNIST data and split it into training and testing sets\n",
    "(x_train, y_train), (x_test, y_test) = keras.datasets.mnist.load_data()\n",
    "\n",
    "# Scale the images to the [0, 1] range\n",
    "x_train = x_train.astype(\"float32\") / 255\n",
    "x_test = x_test.astype(\"float32\") / 255\n",
    "\n",
    "# Reshape images to have an additional channel dimension (1, 28, 28)\n",
    "x_train = np.expand_dims(x_train, 1)\n",
    "x_test = np.expand_dims(x_test, 1)\n",
    "\n",
    "# Convert class labels to one-hot encoded vectors\n",
    "y_train = keras.utils.to_categorical(y_train, 10)\n",
    "y_test = keras.utils.to_categorical(y_test, 10)\n"
   ]
  },
  {
   "cell_type": "markdown",
   "id": "eefb96ab-37ce-43cd-bd62-74319e225f50",
   "metadata": {},
   "source": [
    "### Explanation:\n",
    "\n",
    "The MNIST data is scaled to the range [0,1] to normalize pixel values.\n",
    "We expand the dimensions to (1, 28, 28) to match the input shape required for a convolutional neural network (CNN).\n",
    "Labels are converted to one-hot vectors for classification."
   ]
  },
  {
   "cell_type": "markdown",
   "id": "94131f31-d124-463d-96b4-19751d91f175",
   "metadata": {},
   "source": [
    "## 4. Building the Neural Network\n",
    "We define a CNN using Keras Sequential API.\n",
    "\n"
   ]
  },
  {
   "cell_type": "code",
   "execution_count": 3,
   "id": "3a665b7f-2228-45cf-ab1a-89e6fea5716c",
   "metadata": {},
   "outputs": [
    {
     "data": {
      "text/html": [
       "<pre style=\"white-space:pre;overflow-x:auto;line-height:normal;font-family:Menlo,'DejaVu Sans Mono',consolas,'Courier New',monospace\"><span style=\"font-weight: bold\">Model: \"sequential\"</span>\n",
       "</pre>\n"
      ],
      "text/plain": [
       "\u001b[1mModel: \"sequential\"\u001b[0m\n"
      ]
     },
     "metadata": {},
     "output_type": "display_data"
    },
    {
     "data": {
      "text/html": [
       "<pre style=\"white-space:pre;overflow-x:auto;line-height:normal;font-family:Menlo,'DejaVu Sans Mono',consolas,'Courier New',monospace\">┏━━━━━━━━━━━━━━━━━━━━━━━━━━━━━━━━━┳━━━━━━━━━━━━━━━━━━━━━━━━┳━━━━━━━━━━━━━━━┓\n",
       "┃<span style=\"font-weight: bold\"> Layer (type)                    </span>┃<span style=\"font-weight: bold\"> Output Shape           </span>┃<span style=\"font-weight: bold\">       Param # </span>┃\n",
       "┡━━━━━━━━━━━━━━━━━━━━━━━━━━━━━━━━━╇━━━━━━━━━━━━━━━━━━━━━━━━╇━━━━━━━━━━━━━━━┩\n",
       "│ conv2d (<span style=\"color: #0087ff; text-decoration-color: #0087ff\">Conv2D</span>)                 │ (<span style=\"color: #00d7ff; text-decoration-color: #00d7ff\">None</span>, <span style=\"color: #00af00; text-decoration-color: #00af00\">32</span>, <span style=\"color: #00af00; text-decoration-color: #00af00\">26</span>, <span style=\"color: #00af00; text-decoration-color: #00af00\">26</span>)     │           <span style=\"color: #00af00; text-decoration-color: #00af00\">320</span> │\n",
       "├─────────────────────────────────┼────────────────────────┼───────────────┤\n",
       "│ activation (<span style=\"color: #0087ff; text-decoration-color: #0087ff\">Activation</span>)         │ (<span style=\"color: #00d7ff; text-decoration-color: #00d7ff\">None</span>, <span style=\"color: #00af00; text-decoration-color: #00af00\">32</span>, <span style=\"color: #00af00; text-decoration-color: #00af00\">26</span>, <span style=\"color: #00af00; text-decoration-color: #00af00\">26</span>)     │             <span style=\"color: #00af00; text-decoration-color: #00af00\">0</span> │\n",
       "├─────────────────────────────────┼────────────────────────┼───────────────┤\n",
       "│ max_pooling2d (<span style=\"color: #0087ff; text-decoration-color: #0087ff\">MaxPooling2D</span>)    │ (<span style=\"color: #00d7ff; text-decoration-color: #00d7ff\">None</span>, <span style=\"color: #00af00; text-decoration-color: #00af00\">32</span>, <span style=\"color: #00af00; text-decoration-color: #00af00\">13</span>, <span style=\"color: #00af00; text-decoration-color: #00af00\">13</span>)     │             <span style=\"color: #00af00; text-decoration-color: #00af00\">0</span> │\n",
       "├─────────────────────────────────┼────────────────────────┼───────────────┤\n",
       "│ conv2d_1 (<span style=\"color: #0087ff; text-decoration-color: #0087ff\">Conv2D</span>)               │ (<span style=\"color: #00d7ff; text-decoration-color: #00d7ff\">None</span>, <span style=\"color: #00af00; text-decoration-color: #00af00\">64</span>, <span style=\"color: #00af00; text-decoration-color: #00af00\">11</span>, <span style=\"color: #00af00; text-decoration-color: #00af00\">11</span>)     │        <span style=\"color: #00af00; text-decoration-color: #00af00\">18,496</span> │\n",
       "├─────────────────────────────────┼────────────────────────┼───────────────┤\n",
       "│ activation_1 (<span style=\"color: #0087ff; text-decoration-color: #0087ff\">Activation</span>)       │ (<span style=\"color: #00d7ff; text-decoration-color: #00d7ff\">None</span>, <span style=\"color: #00af00; text-decoration-color: #00af00\">64</span>, <span style=\"color: #00af00; text-decoration-color: #00af00\">11</span>, <span style=\"color: #00af00; text-decoration-color: #00af00\">11</span>)     │             <span style=\"color: #00af00; text-decoration-color: #00af00\">0</span> │\n",
       "├─────────────────────────────────┼────────────────────────┼───────────────┤\n",
       "│ flatten (<span style=\"color: #0087ff; text-decoration-color: #0087ff\">Flatten</span>)               │ (<span style=\"color: #00d7ff; text-decoration-color: #00d7ff\">None</span>, <span style=\"color: #00af00; text-decoration-color: #00af00\">7744</span>)           │             <span style=\"color: #00af00; text-decoration-color: #00af00\">0</span> │\n",
       "├─────────────────────────────────┼────────────────────────┼───────────────┤\n",
       "│ dense (<span style=\"color: #0087ff; text-decoration-color: #0087ff\">Dense</span>)                   │ (<span style=\"color: #00d7ff; text-decoration-color: #00d7ff\">None</span>, <span style=\"color: #00af00; text-decoration-color: #00af00\">10</span>)             │        <span style=\"color: #00af00; text-decoration-color: #00af00\">77,450</span> │\n",
       "└─────────────────────────────────┴────────────────────────┴───────────────┘\n",
       "</pre>\n"
      ],
      "text/plain": [
       "┏━━━━━━━━━━━━━━━━━━━━━━━━━━━━━━━━━┳━━━━━━━━━━━━━━━━━━━━━━━━┳━━━━━━━━━━━━━━━┓\n",
       "┃\u001b[1m \u001b[0m\u001b[1mLayer (type)                   \u001b[0m\u001b[1m \u001b[0m┃\u001b[1m \u001b[0m\u001b[1mOutput Shape          \u001b[0m\u001b[1m \u001b[0m┃\u001b[1m \u001b[0m\u001b[1m      Param #\u001b[0m\u001b[1m \u001b[0m┃\n",
       "┡━━━━━━━━━━━━━━━━━━━━━━━━━━━━━━━━━╇━━━━━━━━━━━━━━━━━━━━━━━━╇━━━━━━━━━━━━━━━┩\n",
       "│ conv2d (\u001b[38;5;33mConv2D\u001b[0m)                 │ (\u001b[38;5;45mNone\u001b[0m, \u001b[38;5;34m32\u001b[0m, \u001b[38;5;34m26\u001b[0m, \u001b[38;5;34m26\u001b[0m)     │           \u001b[38;5;34m320\u001b[0m │\n",
       "├─────────────────────────────────┼────────────────────────┼───────────────┤\n",
       "│ activation (\u001b[38;5;33mActivation\u001b[0m)         │ (\u001b[38;5;45mNone\u001b[0m, \u001b[38;5;34m32\u001b[0m, \u001b[38;5;34m26\u001b[0m, \u001b[38;5;34m26\u001b[0m)     │             \u001b[38;5;34m0\u001b[0m │\n",
       "├─────────────────────────────────┼────────────────────────┼───────────────┤\n",
       "│ max_pooling2d (\u001b[38;5;33mMaxPooling2D\u001b[0m)    │ (\u001b[38;5;45mNone\u001b[0m, \u001b[38;5;34m32\u001b[0m, \u001b[38;5;34m13\u001b[0m, \u001b[38;5;34m13\u001b[0m)     │             \u001b[38;5;34m0\u001b[0m │\n",
       "├─────────────────────────────────┼────────────────────────┼───────────────┤\n",
       "│ conv2d_1 (\u001b[38;5;33mConv2D\u001b[0m)               │ (\u001b[38;5;45mNone\u001b[0m, \u001b[38;5;34m64\u001b[0m, \u001b[38;5;34m11\u001b[0m, \u001b[38;5;34m11\u001b[0m)     │        \u001b[38;5;34m18,496\u001b[0m │\n",
       "├─────────────────────────────────┼────────────────────────┼───────────────┤\n",
       "│ activation_1 (\u001b[38;5;33mActivation\u001b[0m)       │ (\u001b[38;5;45mNone\u001b[0m, \u001b[38;5;34m64\u001b[0m, \u001b[38;5;34m11\u001b[0m, \u001b[38;5;34m11\u001b[0m)     │             \u001b[38;5;34m0\u001b[0m │\n",
       "├─────────────────────────────────┼────────────────────────┼───────────────┤\n",
       "│ flatten (\u001b[38;5;33mFlatten\u001b[0m)               │ (\u001b[38;5;45mNone\u001b[0m, \u001b[38;5;34m7744\u001b[0m)           │             \u001b[38;5;34m0\u001b[0m │\n",
       "├─────────────────────────────────┼────────────────────────┼───────────────┤\n",
       "│ dense (\u001b[38;5;33mDense\u001b[0m)                   │ (\u001b[38;5;45mNone\u001b[0m, \u001b[38;5;34m10\u001b[0m)             │        \u001b[38;5;34m77,450\u001b[0m │\n",
       "└─────────────────────────────────┴────────────────────────┴───────────────┘\n"
      ]
     },
     "metadata": {},
     "output_type": "display_data"
    },
    {
     "data": {
      "text/html": [
       "<pre style=\"white-space:pre;overflow-x:auto;line-height:normal;font-family:Menlo,'DejaVu Sans Mono',consolas,'Courier New',monospace\"><span style=\"font-weight: bold\"> Total params: </span><span style=\"color: #00af00; text-decoration-color: #00af00\">96,266</span> (376.04 KB)\n",
       "</pre>\n"
      ],
      "text/plain": [
       "\u001b[1m Total params: \u001b[0m\u001b[38;5;34m96,266\u001b[0m (376.04 KB)\n"
      ]
     },
     "metadata": {},
     "output_type": "display_data"
    },
    {
     "data": {
      "text/html": [
       "<pre style=\"white-space:pre;overflow-x:auto;line-height:normal;font-family:Menlo,'DejaVu Sans Mono',consolas,'Courier New',monospace\"><span style=\"font-weight: bold\"> Trainable params: </span><span style=\"color: #00af00; text-decoration-color: #00af00\">96,266</span> (376.04 KB)\n",
       "</pre>\n"
      ],
      "text/plain": [
       "\u001b[1m Trainable params: \u001b[0m\u001b[38;5;34m96,266\u001b[0m (376.04 KB)\n"
      ]
     },
     "metadata": {},
     "output_type": "display_data"
    },
    {
     "data": {
      "text/html": [
       "<pre style=\"white-space:pre;overflow-x:auto;line-height:normal;font-family:Menlo,'DejaVu Sans Mono',consolas,'Courier New',monospace\"><span style=\"font-weight: bold\"> Non-trainable params: </span><span style=\"color: #00af00; text-decoration-color: #00af00\">0</span> (0.00 B)\n",
       "</pre>\n"
      ],
      "text/plain": [
       "\u001b[1m Non-trainable params: \u001b[0m\u001b[38;5;34m0\u001b[0m (0.00 B)\n"
      ]
     },
     "metadata": {},
     "output_type": "display_data"
    },
    {
     "name": "stdout",
     "output_type": "stream",
     "text": [
      "\u001b[1m  5/422\u001b[0m \u001b[37m━━━━━━━━━━━━━━━━━━━━\u001b[0m \u001b[1m14s\u001b[0m 35ms/step - accuracy: 0.2038 - loss: 2.2557"
     ]
    },
    {
     "name": "stderr",
     "output_type": "stream",
     "text": [
      "/Users/ducoffe_m/Library/Python/3.9/lib/python/site-packages/keras/src/backend/torch/optimizers/torch_adam.py:35: UserWarning: The operator 'aten::_foreach_mul_.Scalar' is not currently supported on the MPS backend and will fall back to run on the CPU. This may have performance implications. (Triggered internally at /Users/runner/work/pytorch/pytorch/pytorch/aten/src/ATen/mps/MPSFallback.mm:13.)\n",
      "  torch._foreach_mul_(m_list, self.beta_1)\n"
     ]
    },
    {
     "name": "stdout",
     "output_type": "stream",
     "text": [
      "\u001b[1m422/422\u001b[0m \u001b[32m━━━━━━━━━━━━━━━━━━━━\u001b[0m\u001b[37m\u001b[0m \u001b[1m14s\u001b[0m 33ms/step - accuracy: 0.8595 - loss: 0.5029 - val_accuracy: 0.9822 - val_loss: 0.0674\n"
     ]
    },
    {
     "data": {
      "text/plain": [
       "<keras.src.callbacks.history.History at 0x2af6dd3d0>"
      ]
     },
     "execution_count": 3,
     "metadata": {},
     "output_type": "execute_result"
    }
   ],
   "source": [
    "from keras import layers, Sequential\n",
    "\n",
    "# Define the model architecture\n",
    "model = Sequential(\n",
    "    [\n",
    "        layers.Input(shape=(1, 28, 28)),\n",
    "        layers.Conv2D(32, kernel_size=(3, 3)),\n",
    "        layers.Activation(activation=\"relu\"),\n",
    "        layers.MaxPooling2D(pool_size=(2, 2)),\n",
    "        layers.Conv2D(64, kernel_size=(3, 3)),\n",
    "        layers.Activation(activation=\"relu\"),\n",
    "        #layers.MaxPooling2D(pool_size=(2, 2)),\n",
    "        layers.Flatten(),\n",
    "        layers.Dense(10)\n",
    "    ]\n",
    ")\n",
    "\n",
    "\n",
    "\n",
    "model.summary()\n",
    "\n",
    "train_model = Sequential(model.layers+[layers.Activation('softmax')])\n",
    "train_model.compile(loss=\"categorical_crossentropy\", optimizer=\"adam\", metrics=[\"accuracy\"])\n",
    "train_model.fit(x_train, y_train, batch_size=128, epochs=1, validation_split=0.1)\n",
    "\n",
    "\n"
   ]
  },
  {
   "cell_type": "markdown",
   "id": "0c2d45f0-d14f-4448-8e6c-89acc383073b",
   "metadata": {},
   "source": [
    "### Explanation:\n",
    "\n",
    "Convolutional layers extract patterns from images using filters.\n",
    "MaxPooling layers reduce spatial dimensions, making computation more efficient.\n",
    "Flatten layer transforms the 2D feature maps into a 1D vector.\n",
    "Dense layer produces 10 outputs, one for each digit class."
   ]
  },
  {
   "cell_type": "markdown",
   "id": "7038bb1b-06d6-4558-a726-5b608b8ce847",
   "metadata": {},
   "source": [
    "## 5. Introducing Jacobinet for Sparse Gradients\n",
    "Here, we use Jacobinet to compute and constraint the sparsity of the gradient."
   ]
  },
  {
   "cell_type": "code",
   "execution_count": 9,
   "id": "5660764b-e8d3-49c1-82c5-bef90d71949d",
   "metadata": {},
   "outputs": [],
   "source": [
    "import keras.ops as K\n",
    "\n",
    "# keeping the k lowest absolute value\n",
    "class Keep_K_LowestValues(layers.Layer):\n",
    "    def __init__(self, cardinality=1, **kwargs):\n",
    "        super(Keep_K_LowestValues, self).__init__(**kwargs)\n",
    "        self.cardinality = keras.Variable(cardinality, trainable=False)\n",
    "\n",
    "    def call(self, inputs_):\n",
    "        inputs_ = K.sort(K.abs(K.reshape(inputs_, (-1, 784))), axis=-1)\n",
    "        outputs = inputs_[:, :K.cast(self.cardinality, 'int')]\n",
    "        return outputs\n",
    "\n",
    "    def compute_input_shape(input_shape):\n",
    "        return (1, self.cardinality)"
   ]
  },
  {
   "cell_type": "code",
   "execution_count": 10,
   "id": "ad0e5d5d-9c08-40f4-bb00-9d6d55378ec1",
   "metadata": {},
   "outputs": [],
   "source": [
    "import jacobinet\n",
    "from jacobinet import clone_to_backward\n",
    "import keras.ops as K\n",
    "\n",
    "# Create the backward model to compute gradients w.r.t input\n",
    "backward_model = clone_to_backward(model)\n",
    "\n",
    "# Inputs for images and labels\n",
    "data = layers.Input((1, 28, 28))\n",
    "label = layers.Input((10,))\n",
    "\n",
    "gradient = backward_model([data, label])\n",
    "layer_cut = Keep_K_LowestValues(cardinality=50)\n",
    "cut_gradient = layer_cut(gradient)\n",
    "sparse_gradient = K.sum(cut_gradient, axis=-1)\n",
    "max_gradient = K.max(cut_gradient, axis=-1)\n",
    "\n",
    "# New model to optimize both accuracy and gradient sparsity\n",
    "new_model = keras.models.Model([data, label], [layers.Activation('softmax')(model(data)), sparse_gradient, max_gradient])\n"
   ]
  },
  {
   "cell_type": "markdown",
   "id": "17ea616a-e1bf-4a03-bea1-3704992f3a77",
   "metadata": {},
   "source": [
    "We create a Keras callback that gradually increases the number of zero components enforced on the input gradient throughout the training process."
   ]
  },
  {
   "cell_type": "code",
   "execution_count": 11,
   "id": "62033d86-2fd5-42dd-906a-87cf984600cb",
   "metadata": {},
   "outputs": [],
   "source": [
    "from keras.callbacks import Callback\n",
    "\n",
    "class SparsityConstraint(Callback):\n",
    "    def __init__(self, cardinality, inc, max_sparsity_support):\n",
    "        self.cardinality = cardinality\n",
    "        self.inc = inc\n",
    "        self.max_sparsity_support = max_sparsity_support\n",
    "\n",
    "    def on_epoch_end(self, epoch, logs=None):\n",
    "        if epoch%3==0 and epoch:\n",
    "            new_value = np.minimum(self.cardinality.numpy() + self.inc, self.max_sparsity_support)\n",
    "            self.cardinality.assign(new_value)\n",
    "\n",
    "\n",
    "sparse_callback = SparsityConstraint(layer_cut.cardinality, 100, 500)"
   ]
  },
  {
   "cell_type": "code",
   "execution_count": 12,
   "id": "2a9e712d-1d13-4e38-94dd-4c11d395b8fa",
   "metadata": {},
   "outputs": [],
   "source": [
    "# Compile with combined losses (accuracy + gradient sparsity constraints)\n",
    "new_model.compile(loss=[\"categorical_crossentropy\", 'mse', 'mse'], optimizer=\"adam\", \n",
    "                  metrics=[\"accuracy\", \"mse\", \"mse\"], loss_weights=[1, 100, 1000])"
   ]
  },
  {
   "cell_type": "code",
   "execution_count": 13,
   "id": "059a0698-5e2f-4d4b-9578-180270dc9437",
   "metadata": {},
   "outputs": [
    {
     "name": "stdout",
     "output_type": "stream",
     "text": [
      "Epoch 1/20\n",
      "\u001b[1m422/422\u001b[0m \u001b[32m━━━━━━━━━━━━━━━━━━━━\u001b[0m\u001b[37m\u001b[0m \u001b[1m32s\u001b[0m 75ms/step - activation_3_accuracy: 0.9781 - activation_3_loss: 0.0744 - loss: 0.0745 - max_loss: 3.9071e-08 - max_mse: 3.9071e-08 - sum_loss: 1.1971e-06 - sum_mse: 1.1971e-06 - val_activation_3_accuracy: 0.9870 - val_activation_3_loss: 0.0512 - val_loss: 0.0514 - val_max_loss: 5.0120e-08 - val_max_mse: 5.0076e-08 - val_sum_loss: 1.6665e-06 - val_sum_mse: 1.6636e-06\n",
      "Epoch 2/20\n",
      "\u001b[1m422/422\u001b[0m \u001b[32m━━━━━━━━━━━━━━━━━━━━\u001b[0m\u001b[37m\u001b[0m \u001b[1m32s\u001b[0m 76ms/step - activation_3_accuracy: 0.9857 - activation_3_loss: 0.0464 - loss: 0.0467 - max_loss: 5.5738e-08 - max_mse: 5.5738e-08 - sum_loss: 1.6855e-06 - sum_mse: 1.6855e-06 - val_activation_3_accuracy: 0.9870 - val_activation_3_loss: 0.0438 - val_loss: 0.0440 - val_max_loss: 4.6426e-08 - val_max_mse: 4.6403e-08 - val_sum_loss: 1.7423e-06 - val_sum_mse: 1.7400e-06\n",
      "Epoch 3/20\n",
      "\u001b[1m422/422\u001b[0m \u001b[32m━━━━━━━━━━━━━━━━━━━━\u001b[0m\u001b[37m\u001b[0m \u001b[1m32s\u001b[0m 75ms/step - activation_3_accuracy: 0.9901 - activation_3_loss: 0.0332 - loss: 0.0334 - max_loss: 5.9856e-08 - max_mse: 5.9856e-08 - sum_loss: 1.8604e-06 - sum_mse: 1.8604e-06 - val_activation_3_accuracy: 0.9870 - val_activation_3_loss: 0.0498 - val_loss: 0.0501 - val_max_loss: 7.7608e-08 - val_max_mse: 7.7647e-08 - val_sum_loss: 2.4178e-06 - val_sum_mse: 2.4181e-06\n",
      "Epoch 4/20\n",
      "\u001b[1m422/422\u001b[0m \u001b[32m━━━━━━━━━━━━━━━━━━━━\u001b[0m\u001b[37m\u001b[0m \u001b[1m31s\u001b[0m 74ms/step - activation_3_accuracy: 0.9918 - activation_3_loss: 0.0269 - loss: 0.0272 - max_loss: 7.9225e-08 - max_mse: 7.9225e-08 - sum_loss: 2.4863e-06 - sum_mse: 2.4863e-06 - val_activation_3_accuracy: 0.9895 - val_activation_3_loss: 0.0385 - val_loss: 0.0390 - val_max_loss: 1.0334e-07 - val_max_mse: 1.0328e-07 - val_sum_loss: 3.5578e-06 - val_sum_mse: 3.5534e-06\n",
      "Epoch 5/20\n",
      "\u001b[1m422/422\u001b[0m \u001b[32m━━━━━━━━━━━━━━━━━━━━\u001b[0m\u001b[37m\u001b[0m \u001b[1m31s\u001b[0m 74ms/step - activation_3_accuracy: 0.9736 - activation_3_loss: 0.0929 - loss: 2.9851 - max_loss: 1.3311e-05 - max_mse: 1.3311e-05 - sum_loss: 0.0288 - sum_mse: 0.0288 - val_activation_3_accuracy: 0.9840 - val_activation_3_loss: 0.0579 - val_loss: 0.0839 - val_max_loss: 1.6810e-07 - val_max_mse: 1.6812e-07 - val_sum_loss: 2.5797e-04 - val_sum_mse: 2.5801e-04\n",
      "Epoch 6/20\n",
      "\u001b[1m422/422\u001b[0m \u001b[32m━━━━━━━━━━━━━━━━━━━━\u001b[0m\u001b[37m\u001b[0m \u001b[1m31s\u001b[0m 73ms/step - activation_3_accuracy: 0.9855 - activation_3_loss: 0.0552 - loss: 0.1929 - max_loss: 7.8012e-07 - max_mse: 7.8012e-07 - sum_loss: 0.0014 - sum_mse: 0.0014 - val_activation_3_accuracy: 0.9857 - val_activation_3_loss: 0.0521 - val_loss: 0.0578 - val_max_loss: 1.5036e-07 - val_max_mse: 1.5027e-07 - val_sum_loss: 5.5313e-05 - val_sum_mse: 5.5274e-05\n",
      "Epoch 7/20\n",
      "\u001b[1m422/422\u001b[0m \u001b[32m━━━━━━━━━━━━━━━━━━━━\u001b[0m\u001b[37m\u001b[0m \u001b[1m31s\u001b[0m 74ms/step - activation_3_accuracy: 0.9875 - activation_3_loss: 0.0449 - loss: 0.0587 - max_loss: 1.9472e-07 - max_mse: 1.9472e-07 - sum_loss: 1.3617e-04 - sum_mse: 1.3617e-04 - val_activation_3_accuracy: 0.9862 - val_activation_3_loss: 0.0457 - val_loss: 1.4171 - val_max_loss: 6.9465e-06 - val_max_mse: 6.9473e-06 - val_sum_loss: 0.0136 - val_sum_mse: 0.0136\n",
      "Epoch 8/20\n",
      "\u001b[1m422/422\u001b[0m \u001b[32m━━━━━━━━━━━━━━━━━━━━\u001b[0m\u001b[37m\u001b[0m \u001b[1m31s\u001b[0m 74ms/step - activation_3_accuracy: 0.9694 - activation_3_loss: 0.1322 - loss: 3.3900 - max_loss: 6.6983e-06 - max_mse: 6.6983e-06 - sum_loss: 0.0325 - sum_mse: 0.0325 - val_activation_3_accuracy: 0.9685 - val_activation_3_loss: 0.1287 - val_loss: 0.1654 - val_max_loss: 3.6298e-07 - val_max_mse: 3.6264e-07 - val_sum_loss: 3.6415e-04 - val_sum_mse: 3.6375e-04\n",
      "Epoch 9/20\n",
      "\u001b[1m422/422\u001b[0m \u001b[32m━━━━━━━━━━━━━━━━━━━━\u001b[0m\u001b[37m\u001b[0m \u001b[1m31s\u001b[0m 74ms/step - activation_3_accuracy: 0.9645 - activation_3_loss: 0.1357 - loss: 0.2543 - max_loss: 4.9810e-07 - max_mse: 4.9810e-07 - sum_loss: 0.0012 - sum_mse: 0.0012 - val_activation_3_accuracy: 0.9525 - val_activation_3_loss: 0.2564 - val_loss: 1.7220 - val_max_loss: 3.7208e-06 - val_max_mse: 3.7205e-06 - val_sum_loss: 0.0146 - val_sum_mse: 0.0146\n",
      "Epoch 10/20\n",
      "\u001b[1m422/422\u001b[0m \u001b[32m━━━━━━━━━━━━━━━━━━━━\u001b[0m\u001b[37m\u001b[0m \u001b[1m31s\u001b[0m 74ms/step - activation_3_accuracy: 0.9547 - activation_3_loss: 0.2147 - loss: 0.5728 - max_loss: 1.1263e-06 - max_mse: 1.1263e-06 - sum_loss: 0.0036 - sum_mse: 0.0036 - val_activation_3_accuracy: 0.9747 - val_activation_3_loss: 0.1023 - val_loss: 0.1145 - val_max_loss: 1.4155e-07 - val_max_mse: 1.4135e-07 - val_sum_loss: 1.2042e-04 - val_sum_mse: 1.2029e-04\n",
      "Epoch 11/20\n",
      "\u001b[1m422/422\u001b[0m \u001b[32m━━━━━━━━━━━━━━━━━━━━\u001b[0m\u001b[37m\u001b[0m \u001b[1m31s\u001b[0m 74ms/step - activation_3_accuracy: 0.9457 - activation_3_loss: 0.2548 - loss: 1.4342 - max_loss: 3.8428e-06 - max_mse: 3.8428e-06 - sum_loss: 0.0118 - sum_mse: 0.0118 - val_activation_3_accuracy: 0.9437 - val_activation_3_loss: 0.2308 - val_loss: 0.2445 - val_max_loss: 1.3672e-07 - val_max_mse: 1.3645e-07 - val_sum_loss: 1.3534e-04 - val_sum_mse: 1.3507e-04\n",
      "Epoch 12/20\n",
      "\u001b[1m422/422\u001b[0m \u001b[32m━━━━━━━━━━━━━━━━━━━━\u001b[0m\u001b[37m\u001b[0m \u001b[1m32s\u001b[0m 75ms/step - activation_3_accuracy: 0.9371 - activation_3_loss: 0.2318 - loss: 0.2507 - max_loss: 1.6342e-07 - max_mse: 1.6342e-07 - sum_loss: 1.8758e-04 - sum_mse: 1.8758e-04 - val_activation_3_accuracy: 0.9697 - val_activation_3_loss: 0.1287 - val_loss: 0.1352 - val_max_loss: 1.0728e-07 - val_max_mse: 1.0703e-07 - val_sum_loss: 6.4331e-05 - val_sum_mse: 6.4177e-05\n",
      "Epoch 13/20\n",
      "\u001b[1m422/422\u001b[0m \u001b[32m━━━━━━━━━━━━━━━━━━━━\u001b[0m\u001b[37m\u001b[0m \u001b[1m31s\u001b[0m 74ms/step - activation_3_accuracy: 0.9581 - activation_3_loss: 0.1473 - loss: 0.1582 - max_loss: 1.4749e-07 - max_mse: 1.4749e-07 - sum_loss: 1.0755e-04 - sum_mse: 1.0755e-04 - val_activation_3_accuracy: 0.9750 - val_activation_3_loss: 0.1022 - val_loss: 0.1109 - val_max_loss: 1.2315e-07 - val_max_mse: 1.2287e-07 - val_sum_loss: 8.5425e-05 - val_sum_mse: 8.5237e-05\n",
      "Epoch 14/20\n",
      "\u001b[1m422/422\u001b[0m \u001b[32m━━━━━━━━━━━━━━━━━━━━\u001b[0m\u001b[37m\u001b[0m \u001b[1m32s\u001b[0m 75ms/step - activation_3_accuracy: 0.9320 - activation_3_loss: 0.2681 - loss: 1.3621 - max_loss: 3.4636e-06 - max_mse: 3.4636e-06 - sum_loss: 0.0109 - sum_mse: 0.0109 - val_activation_3_accuracy: 0.9608 - val_activation_3_loss: 0.1432 - val_loss: 0.1530 - val_max_loss: 4.5877e-08 - val_max_mse: 4.5805e-08 - val_sum_loss: 9.7899e-05 - val_sum_mse: 9.7821e-05\n",
      "Epoch 15/20\n",
      "\u001b[1m422/422\u001b[0m \u001b[32m━━━━━━━━━━━━━━━━━━━━\u001b[0m\u001b[37m\u001b[0m \u001b[1m31s\u001b[0m 75ms/step - activation_3_accuracy: 0.9522 - activation_3_loss: 0.1629 - loss: 0.1801 - max_loss: 1.5126e-07 - max_mse: 1.5126e-07 - sum_loss: 1.7034e-04 - sum_mse: 1.7034e-04 - val_activation_3_accuracy: 0.9693 - val_activation_3_loss: 0.1096 - val_loss: 0.1248 - val_max_loss: 2.0635e-07 - val_max_mse: 2.0599e-07 - val_sum_loss: 1.5074e-04 - val_sum_mse: 1.5053e-04\n",
      "Epoch 16/20\n",
      "\u001b[1m422/422\u001b[0m \u001b[32m━━━━━━━━━━━━━━━━━━━━\u001b[0m\u001b[37m\u001b[0m \u001b[1m32s\u001b[0m 76ms/step - activation_3_accuracy: 0.9630 - activation_3_loss: 0.1259 - loss: 0.1404 - max_loss: 1.6572e-07 - max_mse: 1.6572e-07 - sum_loss: 1.4341e-04 - sum_mse: 1.4341e-04 - val_activation_3_accuracy: 0.9748 - val_activation_3_loss: 0.0913 - val_loss: 0.0935 - val_max_loss: 2.5651e-08 - val_max_mse: 2.5609e-08 - val_sum_loss: 2.1927e-05 - val_sum_mse: 2.1896e-05\n",
      "Epoch 17/20\n",
      "\u001b[1m422/422\u001b[0m \u001b[32m━━━━━━━━━━━━━━━━━━━━\u001b[0m\u001b[37m\u001b[0m \u001b[1m32s\u001b[0m 75ms/step - activation_3_accuracy: 0.9646 - activation_3_loss: 0.1227 - loss: 0.3702 - max_loss: 8.8381e-07 - max_mse: 8.8381e-07 - sum_loss: 0.0025 - sum_mse: 0.0025 - val_activation_3_accuracy: 0.9740 - val_activation_3_loss: 0.0916 - val_loss: 0.0946 - val_max_loss: 9.8753e-09 - val_max_mse: 9.8615e-09 - val_sum_loss: 2.9821e-05 - val_sum_mse: 2.9807e-05\n",
      "Epoch 18/20\n",
      "\u001b[1m422/422\u001b[0m \u001b[32m━━━━━━━━━━━━━━━━━━━━\u001b[0m\u001b[37m\u001b[0m \u001b[1m32s\u001b[0m 75ms/step - activation_3_accuracy: 0.9689 - activation_3_loss: 0.1047 - loss: 0.1082 - max_loss: 6.7350e-09 - max_mse: 6.7350e-09 - sum_loss: 3.4587e-05 - sum_mse: 3.4587e-05 - val_activation_3_accuracy: 0.9768 - val_activation_3_loss: 0.0839 - val_loss: 0.0842 - val_max_loss: 7.7951e-09 - val_max_mse: 7.7758e-09 - val_sum_loss: 3.2408e-06 - val_sum_mse: 3.2356e-06\n",
      "Epoch 19/20\n",
      "\u001b[1m422/422\u001b[0m \u001b[32m━━━━━━━━━━━━━━━━━━━━\u001b[0m\u001b[37m\u001b[0m \u001b[1m31s\u001b[0m 74ms/step - activation_3_accuracy: 0.9740 - activation_3_loss: 0.0854 - loss: 0.0862 - max_loss: 4.2477e-09 - max_mse: 4.2477e-09 - sum_loss: 8.0295e-06 - sum_mse: 8.0295e-06 - val_activation_3_accuracy: 0.9787 - val_activation_3_loss: 0.0751 - val_loss: 0.0768 - val_max_loss: 1.1153e-08 - val_max_mse: 1.1135e-08 - val_sum_loss: 1.6865e-05 - val_sum_mse: 1.6854e-05\n",
      "Epoch 20/20\n",
      "\u001b[1m422/422\u001b[0m \u001b[32m━━━━━━━━━━━━━━━━━━━━\u001b[0m\u001b[37m\u001b[0m \u001b[1m32s\u001b[0m 76ms/step - activation_3_accuracy: 0.9768 - activation_3_loss: 0.0788 - loss: 0.0809 - max_loss: 5.7808e-09 - max_mse: 5.7808e-09 - sum_loss: 2.0479e-05 - sum_mse: 2.0479e-05 - val_activation_3_accuracy: 0.9782 - val_activation_3_loss: 0.0728 - val_loss: 0.0742 - val_max_loss: 7.5857e-09 - val_max_mse: 7.5721e-09 - val_sum_loss: 1.3575e-05 - val_sum_mse: 1.3567e-05\n"
     ]
    },
    {
     "data": {
      "text/plain": [
       "<keras.src.callbacks.history.History at 0x2b00ff160>"
      ]
     },
     "execution_count": 13,
     "metadata": {},
     "output_type": "execute_result"
    }
   ],
   "source": [
    "# Train the model\n",
    "new_model.fit([x_train, y_train], [y_train, 0*y_train[:, 1], 0*y_train[:, 1]], \n",
    "              batch_size=128, epochs=20, validation_split=0.1,\n",
    "              callbacks=[sparse_callback])\n"
   ]
  },
  {
   "cell_type": "markdown",
   "id": "b89da442-831c-4b74-a65b-a1079274fc67",
   "metadata": {},
   "source": [
    "### Explanation:\n",
    "\n",
    "Backward gradients: Jacobinet computes the gradient of the model's output w.r.t the input.\n",
    "Sparse constraint: We retain only the lowest 400 elements in the gradient, considering absolute value \n",
    "to enforce sparsity on.\n",
    "Multi-objective training: The loss is a combination of cross-entropy (for classification) and sparsity loss (to promote sparse gradients)."
   ]
  },
  {
   "cell_type": "code",
   "execution_count": 14,
   "id": "7d9a69e6-4aa8-4c03-9b20-8d7cd92fdf0c",
   "metadata": {},
   "outputs": [
    {
     "name": "stdout",
     "output_type": "stream",
     "text": [
      "\u001b[1m1875/1875\u001b[0m \u001b[32m━━━━━━━━━━━━━━━━━━━━\u001b[0m\u001b[37m\u001b[0m \u001b[1m48s\u001b[0m 25ms/step - activation_3_accuracy: 0.9796 - activation_3_loss: 0.0684 - loss: 0.0697 - max_loss: 7.3259e-09 - max_mse: 7.3259e-09 - sum_loss: 1.3556e-05 - sum_mse: 1.3556e-05\n"
     ]
    },
    {
     "data": {
      "text/plain": [
       "[0.0704539567232132,\n",
       " 0.06908426433801651,\n",
       " 1.362367947876919e-05,\n",
       " 7.434201254596928e-09,\n",
       " 0.9789999723434448,\n",
       " 7.434201254596928e-09,\n",
       " 1.362367947876919e-05]"
      ]
     },
     "execution_count": 14,
     "metadata": {},
     "output_type": "execute_result"
    }
   ],
   "source": [
    "new_model.evaluate([x_train, y_train], [y_train, 0*y_train[:, :1], 0*y_train[:, :1]])"
   ]
  },
  {
   "cell_type": "markdown",
   "id": "23b4be49-dc62-49d8-bed2-c8b390bd8174",
   "metadata": {},
   "source": [
    "## 6. Visualizing Gradient Sparsity\n",
    "After training, we visualize which parts of the image influence predictions."
   ]
  },
  {
   "cell_type": "code",
   "execution_count": 15,
   "id": "eca64eea-570e-42fa-8531-221df199a8e6",
   "metadata": {},
   "outputs": [
    {
     "name": "stdout",
     "output_type": "stream",
     "text": [
      "\u001b[1m1/1\u001b[0m \u001b[32m━━━━━━━━━━━━━━━━━━━━\u001b[0m\u001b[37m\u001b[0m \u001b[1m0s\u001b[0m 28ms/step\n",
      "7 7\n",
      "\u001b[1m1/1\u001b[0m \u001b[32m━━━━━━━━━━━━━━━━━━━━\u001b[0m\u001b[37m\u001b[0m \u001b[1m0s\u001b[0m 27ms/step\n"
     ]
    },
    {
     "data": {
      "image/png": "[encoded data removed]",
      "text/plain": [
       "<Figure size 640x480 with 2 Axes>"
      ]
     },
     "metadata": {},
     "output_type": "display_data"
    }
   ],
   "source": [
    "import matplotlib.pyplot as plt\n",
    "\n",
    "index = 0\n",
    "print(model.predict(x_test[index:index+1])[0].argmax(), y_test[index].argmax())\n",
    "img_saliency = backward_model.predict([x_test[index:index+1], y_test[index:index+1]])\n",
    "\n",
    "fig, (ax1, ax2) = plt.subplots(1, 2)\n",
    "ax1.imshow(np.clip(np.abs(img_saliency[0,0]), 1e-7, 100), cmap='Grays')\n",
    "ax2.imshow(x_test[index,0], cmap='Blues')\n",
    "plt.show()\n"
   ]
  },
  {
   "cell_type": "markdown",
   "id": "124acd2c-2717-4a8f-ac2f-df356c8728bb",
   "metadata": {},
   "source": [
    "### Explanation:\n",
    "\n",
    "The **saliency map** shows which pixels influence the network's prediction.\n",
    "Sparse gradients result in cleaner and more interpretable saliency maps"
   ]
  },
  {
   "cell_type": "markdown",
   "id": "462cae9d-96cf-43cf-9972-37f827b5b91a",
   "metadata": {},
   "source": [
    "## 7. Evaluating the Model\n",
    "Finally, we evaluate the model's accuracy on the test set."
   ]
  },
  {
   "cell_type": "code",
   "execution_count": 16,
   "id": "84a841d8-3145-4bc4-a64c-7fde309bc25d",
   "metadata": {},
   "outputs": [
    {
     "name": "stdout",
     "output_type": "stream",
     "text": [
      "\u001b[1m313/313\u001b[0m \u001b[32m━━━━━━━━━━━━━━━━━━━━\u001b[0m\u001b[37m\u001b[0m \u001b[1m1s\u001b[0m 4ms/step - accuracy: 0.9692 - loss: 0.0912\n",
      "Test loss: 0.09144507348537445\n",
      "Test accuracy: 0.975600004196167\n"
     ]
    }
   ],
   "source": [
    "model.compile(loss=keras.metrics.CategoricalCrossentropy(from_logits=True), optimizer=\"adam\", metrics=[\"accuracy\"])\n",
    "\n",
    "score = model.evaluate(x_test, y_test)\n",
    "print(\"Test loss:\", score[0])\n",
    "print(\"Test accuracy:\", score[1])\n"
   ]
  },
  {
   "cell_type": "code",
   "execution_count": 17,
   "id": "ad09c0e7-fd79-4023-a372-742d700a44c5",
   "metadata": {},
   "outputs": [
    {
     "data": {
      "text/plain": [
       "Text(0.5, 1.0, 'Distribution of absolute value of the gradient along the pixels')"
      ]
     },
     "execution_count": 17,
     "metadata": {},
     "output_type": "execute_result"
    },
    {
     "data": {
      "image/png": "[encoded data removed]",
      "text/plain": [
       "<Figure size 640x480 with 1 Axes>"
      ]
     },
     "metadata": {},
     "output_type": "display_data"
    }
   ],
   "source": [
    "# histogram for the value\n",
    "gradient_value = np.abs(np.reshape(img_saliency, (784,)))\n",
    "bins = np.linspace(gradient_value.min(), gradient_value.max(), 100)\n",
    "counts, _ =  np.histogram(gradient_value, bins=bins)\n",
    "plt.bar(bins[:-1], counts, width=np.diff(bins), color='purple', label='Correct')\n",
    "plt.title('Distribution of absolute value of the gradient along the pixels')"
   ]
  },
  {
   "cell_type": "markdown",
   "id": "d917cc7a-ca2e-4583-99f1-787bfa9441e2",
   "metadata": {},
   "source": [
    "This step reports the test accuracy, which tells us how well the model generalizes to new data."
   ]
  },
  {
   "cell_type": "markdown",
   "id": "d5c6d8ad-7d03-4aea-b07f-8d4fd4910687",
   "metadata": {},
   "source": [
    "8. Analyzing Gradient Sparsity\n",
    "We compute sparsity metrics for every image in the test set."
   ]
  },
  {
   "cell_type": "code",
   "execution_count": 18,
   "id": "0406e26d-00ce-44de-a18f-e408371d1cf3",
   "metadata": {},
   "outputs": [
    {
     "name": "stdout",
     "output_type": "stream",
     "text": [
      "\u001b[1m313/313\u001b[0m \u001b[32m━━━━━━━━━━━━━━━━━━━━\u001b[0m\u001b[37m\u001b[0m \u001b[1m0s\u001b[0m 1ms/step\n"
     ]
    },
    {
     "data": {
      "image/png": "[encoded data removed]",
      "text/plain": [
       "<Figure size 640x480 with 1 Axes>"
      ]
     },
     "metadata": {},
     "output_type": "display_data"
    }
   ],
   "source": [
    "gradient_saliency = backward_model.predict([x_test, y_test], verbose=0)\n",
    "sparsity_scores = (np.reshape(np.abs(gradient_saliency), (-1, 784)) > 1e-4).sum(-1)\n",
    "\n",
    "# Separate the sparsity scores for correct and incorrect predictions\n",
    "good_prediction = np.argmax(model.predict(x_test), -1) == np.argmax(y_test, -1)\n",
    "\n",
    "# Plot histogram of sparsity scores\n",
    "n_bins = 20\n",
    "bins = np.linspace(sparsity_scores.min(), sparsity_scores.max(), n_bins + 1)\n",
    "\n",
    "pos_counts, _ = np.histogram(sparsity_scores[good_prediction], bins=bins)\n",
    "neg_counts, _ = np.histogram(sparsity_scores[~good_prediction], bins=bins)\n",
    "\n",
    "plt.bar(bins[:-1], pos_counts, width=np.diff(bins), color='green', label='Correct')\n",
    "plt.bar(bins[:-1], neg_counts, width=np.diff(bins), bottom=pos_counts, color='red', label='Incorrect')\n",
    "plt.xlabel('Sparsity Score')\n",
    "plt.ylabel('Count of Samples')\n",
    "plt.legend()\n",
    "plt.show()\n"
   ]
  },
  {
   "cell_type": "markdown",
   "id": "78c6488e-92bb-4d64-b533-e8dea6618a33",
   "metadata": {},
   "source": [
    "### Explanation:\n",
    "\n",
    "Sparsity score is the number of non-zero elements in the gradient.\n",
    "We visualize how sparsity correlates with prediction success.\n"
   ]
  },
  {
   "cell_type": "markdown",
   "id": "247642f7-24de-419d-b4c6-88b936b25c1e",
   "metadata": {},
   "source": [
    "Plot a Heatmap of Sparsity Across All Test Samples\n",
    "You can visualize how sparsity varies across all test samples, showing which samples were harder for the model to interpret"
   ]
  },
  {
   "cell_type": "code",
   "execution_count": 21,
   "id": "cf76da1e-0dd5-4011-b08c-e7e6c48f8218",
   "metadata": {},
   "outputs": [
    {
     "name": "stdout",
     "output_type": "stream",
     "text": [
      "Shared zero gradient support across all the class 187\n"
     ]
    },
    {
     "data": {
      "text/plain": [
       "<matplotlib.image.AxesImage at 0x33e2c8fd0>"
      ]
     },
     "execution_count": 21,
     "metadata": {},
     "output_type": "execute_result"
    },
    {
     "data": {
      "image/png": "[encoded data removed]",
      "text/plain": [
       "<Figure size 640x480 with 1 Axes>"
      ]
     },
     "metadata": {},
     "output_type": "display_data"
    }
   ],
   "source": [
    "#select a label\n",
    "class_label = 0\n",
    "index_label = np.where(np.argmax(y_test, -1)==class_label)[0]\n",
    "gradient_class = gradient_saliency[index_label]\n",
    "\n",
    "average_img = np.mean(np.abs(gradient_class), axis=0)\n",
    "\n",
    "epsilon_grad = 1e-4\n",
    "\n",
    "print(\"Shared zero gradient support across all the class\",  len(np.where(average_img.flatten()<epsilon_grad)[0]))\n",
    "\n",
    "plt.imshow(average_img[0], cmap='Blues')"
   ]
  },
  {
   "cell_type": "code",
   "execution_count": 22,
   "id": "411d828e-e97c-477b-8fac-3b27ad2f131f",
   "metadata": {},
   "outputs": [
    {
     "name": "stdout",
     "output_type": "stream",
     "text": [
      "Shared zero gradient support across all the class 187\n"
     ]
    },
    {
     "data": {
      "text/plain": [
       "<matplotlib.image.AxesImage at 0x33e312400>"
      ]
     },
     "execution_count": 22,
     "metadata": {},
     "output_type": "execute_result"
    },
    {
     "data": {
      "image/png": "[encoded data removed]",
      "text/plain": [
       "<Figure size 640x480 with 1 Axes>"
      ]
     },
     "metadata": {},
     "output_type": "display_data"
    }
   ],
   "source": [
    "gradient_all = gradient_saliency[index_label]\n",
    "\n",
    "average_img_all_class = np.mean(np.abs(gradient_all), axis=0)\n",
    "\n",
    "print(\"Shared zero gradient support across all the class\",  len(np.where(average_img_all_class.flatten()<epsilon_grad)[0]))\n",
    "\n",
    "plt.imshow(average_img_all_class[0], cmap='Blues')"
   ]
  },
  {
   "cell_type": "markdown",
   "id": "73a76ae0-37a2-4e8d-bdc5-cd6790f95a78",
   "metadata": {},
   "source": [
    "## 9. Baseline Comparison\n",
    "\n",
    "Next we made an ablation study by non using sparse gradient regularization during the training"
   ]
  },
  {
   "cell_type": "code",
   "execution_count": 23,
   "id": "a5d9d6f4-fe11-4e32-821c-5b7e77b72ecf",
   "metadata": {},
   "outputs": [],
   "source": [
    "# Train a model WITHOUT sparsity constraints\n",
    "\n",
    "baseline_model = keras.models.clone_model(model)\n",
    "\n",
    "train_baseline_model = Sequential(baseline_model.layers+[layers.Activation('softmax')])\n",
    "train_baseline_model.compile(loss=\"categorical_crossentropy\", optimizer=\"adam\", metrics=[\"accuracy\"])\n"
   ]
  },
  {
   "cell_type": "code",
   "execution_count": 24,
   "id": "6067de35-1fca-4710-af2b-c00484180761",
   "metadata": {},
   "outputs": [
    {
     "name": "stdout",
     "output_type": "stream",
     "text": [
      "Epoch 1/5\n",
      "\u001b[1m422/422\u001b[0m \u001b[32m━━━━━━━━━━━━━━━━━━━━\u001b[0m\u001b[37m\u001b[0m \u001b[1m14s\u001b[0m 33ms/step - accuracy: 0.8526 - loss: 0.5046 - val_accuracy: 0.9795 - val_loss: 0.0700\n",
      "Epoch 2/5\n",
      "\u001b[1m422/422\u001b[0m \u001b[32m━━━━━━━━━━━━━━━━━━━━\u001b[0m\u001b[37m\u001b[0m \u001b[1m13s\u001b[0m 31ms/step - accuracy: 0.9782 - loss: 0.0712 - val_accuracy: 0.9870 - val_loss: 0.0522\n",
      "Epoch 3/5\n",
      "\u001b[1m422/422\u001b[0m \u001b[32m━━━━━━━━━━━━━━━━━━━━\u001b[0m\u001b[37m\u001b[0m \u001b[1m14s\u001b[0m 32ms/step - accuracy: 0.9848 - loss: 0.0479 - val_accuracy: 0.9867 - val_loss: 0.0451\n",
      "Epoch 4/5\n",
      "\u001b[1m422/422\u001b[0m \u001b[32m━━━━━━━━━━━━━━━━━━━━\u001b[0m\u001b[37m\u001b[0m \u001b[1m14s\u001b[0m 34ms/step - accuracy: 0.9898 - loss: 0.0340 - val_accuracy: 0.9897 - val_loss: 0.0429\n",
      "Epoch 5/5\n",
      "\u001b[1m422/422\u001b[0m \u001b[32m━━━━━━━━━━━━━━━━━━━━\u001b[0m\u001b[37m\u001b[0m \u001b[1m13s\u001b[0m 32ms/step - accuracy: 0.9915 - loss: 0.0286 - val_accuracy: 0.9878 - val_loss: 0.0430\n"
     ]
    },
    {
     "data": {
      "text/plain": [
       "<keras.src.callbacks.history.History at 0x33e7d81c0>"
      ]
     },
     "execution_count": 24,
     "metadata": {},
     "output_type": "execute_result"
    }
   ],
   "source": [
    "train_baseline_model.fit(x_train, y_train, batch_size=128, epochs=5, validation_split=0.1)\n"
   ]
  },
  {
   "cell_type": "markdown",
   "id": "383203ca-df7b-4efd-a218-69b94b4696db",
   "metadata": {},
   "source": [
    "Then, compare the test accuracy and visualize the saliency maps of the same images. You'll see that the sparse model focuses on more relevant features."
   ]
  },
  {
   "cell_type": "code",
   "execution_count": 25,
   "id": "f8a2d82d-3245-4ebc-9a69-54a6bdcb1200",
   "metadata": {},
   "outputs": [],
   "source": [
    "backward_model_baseline = clone_to_backward(baseline_model)"
   ]
  },
  {
   "cell_type": "code",
   "execution_count": 26,
   "id": "013e6b46-a13b-4260-ab38-0ae2bf46fd63",
   "metadata": {},
   "outputs": [
    {
     "name": "stdout",
     "output_type": "stream",
     "text": [
      "\u001b[1m1/1\u001b[0m \u001b[32m━━━━━━━━━━━━━━━━━━━━\u001b[0m\u001b[37m\u001b[0m \u001b[1m0s\u001b[0m 15ms/step\n",
      "\u001b[1m1/1\u001b[0m \u001b[32m━━━━━━━━━━━━━━━━━━━━\u001b[0m\u001b[37m\u001b[0m \u001b[1m0s\u001b[0m 12ms/step\n"
     ]
    },
    {
     "data": {
      "image/png": "[encoded data removed]",
      "text/plain": [
       "<Figure size 1500x500 with 3 Axes>"
      ]
     },
     "metadata": {},
     "output_type": "display_data"
    }
   ],
   "source": [
    "index = 1\n",
    "img_saliency_sparse = backward_model.predict([x_test[index:index+1], y_test[index:index+1]])\n",
    "img_saliency_baseline = backward_model_baseline.predict([x_test[index:index+1], y_test[index:index+1]])\n",
    "\n",
    "fig, (ax1, ax2, ax3) = plt.subplots(1, 3, figsize=(15, 5))\n",
    "ax1.imshow(x_test[index,0], cmap='Blues')\n",
    "ax1.set_title('Original Image')\n",
    "ax2.imshow(np.clip(img_saliency_sparse[0,0], epsilon_grad, 100)-epsilon_grad, cmap='Blues')\n",
    "ax2.set_title('Sparse Model Saliency')\n",
    "ax3.imshow(np.clip(img_saliency_baseline[0,0], epsilon_grad, 100)-epsilon_grad, cmap='Blues')\n",
    "ax3.set_title('Baseline Model Saliency')\n",
    "plt.show()\n"
   ]
  },
  {
   "cell_type": "code",
   "execution_count": 33,
   "id": "bab5265c-90e1-41d5-8d62-bf4b45ea53d4",
   "metadata": {},
   "outputs": [
    {
     "name": "stdout",
     "output_type": "stream",
     "text": [
      "less sparse, average non zero element is 733.0379 over 784 input features\n"
     ]
    }
   ],
   "source": [
    "# spread values\n",
    "gradient_baseline = backward_model_baseline.predict([x_test, y_test], verbose=0)\n",
    "sparse_baseline = (np.reshape(np.abs(gradient_baseline), (-1, 784)) > epsilon_grad).sum(-1)\n",
    "\n",
    "print('less sparse, average non zero element is {} over 784 input features'.format(np.mean(sparse_baseline)))"
   ]
  },
  {
   "cell_type": "code",
   "execution_count": 34,
   "id": "91591aa6-c588-41a0-b48e-c26b72b0795c",
   "metadata": {},
   "outputs": [
    {
     "name": "stdout",
     "output_type": "stream",
     "text": [
      "less sparse, average non zero element is 259.684 over 784 input features\n"
     ]
    }
   ],
   "source": [
    "# spread values\n",
    "gradient_baseline = backward_model.predict([x_test, y_test], verbose=0)\n",
    "sparse_baseline = (np.reshape(np.abs(gradient_baseline), (-1, 784)) > epsilon_grad).sum(-1)\n",
    "\n",
    "print('less sparse, average non zero element is {} over 784 input features'.format(np.mean(sparse_baseline)))"
   ]
  },
  {
   "cell_type": "code",
   "execution_count": 36,
   "id": "593b3933-6422-4852-bb63-dbc66f0ffb5e",
   "metadata": {},
   "outputs": [
    {
     "name": "stdout",
     "output_type": "stream",
     "text": [
      "\u001b[1m313/313\u001b[0m \u001b[32m━━━━━━━━━━━━━━━━━━━━\u001b[0m\u001b[37m\u001b[0m \u001b[1m0s\u001b[0m 1ms/step\n"
     ]
    }
   ],
   "source": [
    "gradient_saliency_baseline = backward_model_baseline.predict([x_test, y_test], verbose=0)\n",
    "# Separate the sparsity scores for correct and incorrect predictions\n",
    "good_prediction_baseline = np.argmax(baseline_model.predict(x_test), -1) == np.argmax(y_test, -1)"
   ]
  },
  {
   "cell_type": "code",
   "execution_count": 40,
   "id": "f4746fdb-f881-40a7-b78a-cacc90cb6973",
   "metadata": {},
   "outputs": [
    {
     "data": {
      "image/png": "[encoded data removed]",
      "text/plain": [
       "<Figure size 640x480 with 1 Axes>"
      ]
     },
     "metadata": {},
     "output_type": "display_data"
    }
   ],
   "source": [
    "sparsity_scores_baseline = (np.reshape(np.abs(gradient_saliency_baseline), (-1, 784)) > 1e-4).sum(-1)\n",
    "# Plot histogram of sparsity scores\n",
    "n_bins = 20\n",
    "bins_baseline = np.linspace(sparsity_scores_baseline.min(), sparsity_scores_baseline.max(), n_bins + 1)\n",
    "\n",
    "pos_counts_baseline, _ = np.histogram(sparsity_scores_baseline[good_prediction_baseline], bins=bins_baseline)\n",
    "neg_counts_baseline, _ = np.histogram(sparsity_scores_baseline[good_prediction_baseline], bins=bins_baseline)\n",
    "\n",
    "plt.bar(bins_baseline[:-1], pos_counts_baseline, width=np.diff(bins_baseline), color='green', label='Correct')\n",
    "plt.bar(bins_baseline[:-1], neg_counts_baseline, width=np.diff(bins_baseline), bottom=pos_counts_baseline, color='red', label='Incorrect')\n",
    "plt.xlabel('Sparsity Score')\n",
    "plt.ylabel('Count of Samples')\n",
    "plt.legend()\n",
    "plt.show()\n"
   ]
  },
  {
   "cell_type": "markdown",
   "id": "5d3fec61-176a-4c23-941e-22901a558afa",
   "metadata": {},
   "source": [
    "## Conclusion\n",
    "This tutorial demonstrated how to train a neural network with sparse gradient support using the Jacobinet library. By incorporating gradient sparsity constraints, we observed improvements in robustness, interpretability, and generalization.\n",
    "\n",
    "### Key Takeaways\n",
    "- Robustness and Interpretability: Sparse gradients prioritize the most critical features, naturally enhancing model robustness against adversarial attacks and improving explainability.\n",
    "- Simple Implementation: Jacobinet makes it easy to introduce gradient sparsity constraints into a Keras training pipeline with minimal changes.\n",
    "- Dynamic Sparsity: We showcased how to gradually increase the cardinality constraint during training, giving the model greater flexibility to adapt.\n",
    "- Future Directions: Further exploration could focus on how different cardinality constraints affect robustness, how sparsity compares to L1 regularization, and how it influences resistance to adversarial attacks.\n",
    "\n",
    "### Next Steps\n",
    "To deepen your understanding, try experimenting with:\n",
    "\n",
    "- Cardinality Adjustment: Vary the gradient cardinality constraint and observe how it affects sparsity, accuracy, and robustness.\n",
    "- Visualization: Generate and compare saliency maps for sparse and non-sparse models.\n",
    "- Adversarial Testing: Test the model's resistance to adversarial perturbations and analyze the impact of gradient sparsity on defense capabilities.\n",
    "### Further Reading\n",
    "If you're interested in the theoretical foundations of sparsity, robustness, and interpretability, here are some key resources:\n",
    "\n",
    "* \"Intriguing Properties of Neural Networks\" by Szegedy et al. (2013) — A seminal paper that introduced the concept of adversarial robustness.\n",
    "* \"SmoothGrad: Removing Noise by Adding Noise\" (2017) — A technique for generating clear and interpretable saliency maps for model explanations.\n",
    "By exploring these topics, you'll gain a deeper understanding of how gradient sparsity can improve the robustness, interpretability, and efficiency of neural networks.\n"
   ]
  },
  {
   "cell_type": "code",
   "execution_count": null,
   "id": "9f812060-d6f6-4b67-a77e-ddf4f3b50f7a",
   "metadata": {},
   "outputs": [],
   "source": []
  }
 ],
 "metadata": {
  "kernelspec": {
   "display_name": "Python 3 (ipykernel)",
   "language": "python",
   "name": "python3"
  },
  "language_info": {
   "codemirror_mode": {
    "name": "ipython",
    "version": 3
   },
   "file_extension": ".py",
   "mimetype": "text/x-python",
   "name": "python",
   "nbconvert_exporter": "python",
   "pygments_lexer": "ipython3",
   "version": "3.9.6"
  }
 },
 "nbformat": 4,
 "nbformat_minor": 5
}
